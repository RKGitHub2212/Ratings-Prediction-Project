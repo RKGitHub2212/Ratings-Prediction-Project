{
 "cells": [
  {
   "cell_type": "code",
   "execution_count": 1,
   "id": "f89c3a31",
   "metadata": {},
   "outputs": [],
   "source": [
    "import selenium\n",
    "import pandas as pd\n",
    "from selenium import webdriver"
   ]
  },
  {
   "cell_type": "code",
   "execution_count": 2,
   "id": "8420d253",
   "metadata": {},
   "outputs": [],
   "source": [
    "import time\n",
    "from selenium.common.exceptions import NoSuchElementException"
   ]
  },
  {
   "cell_type": "code",
   "execution_count": 3,
   "id": "1c1d8d32",
   "metadata": {},
   "outputs": [],
   "source": [
    "driver = webdriver.Chrome(r\"C:\\Users\\dell\\Downloads\\chromedriver_win32 (1)\\chromedriver.exe\")"
   ]
  },
  {
   "cell_type": "code",
   "execution_count": 4,
   "id": "188e6f5c",
   "metadata": {},
   "outputs": [],
   "source": [
    "driver.get('http://www.amazon.in/')"
   ]
  },
  {
   "cell_type": "code",
   "execution_count": 5,
   "id": "32f3edef",
   "metadata": {},
   "outputs": [],
   "source": [
    "search_bar = driver.find_element_by_id('twotabsearchtextbox')\n",
    "search_bar.send_keys('laptop')"
   ]
  },
  {
   "cell_type": "code",
   "execution_count": 6,
   "id": "8f6b62c6",
   "metadata": {},
   "outputs": [],
   "source": [
    "srch = driver.find_element_by_id('nav-search-submit-button')\n",
    "srch.click()"
   ]
  },
  {
   "cell_type": "code",
   "execution_count": 7,
   "id": "51b43875",
   "metadata": {},
   "outputs": [],
   "source": [
    "url=[]\n",
    "for i in driver.find_elements_by_xpath('//a[@class=\"a-link-normal a-text-normal\"]'):\n",
    "    url.append(i.get_attribute('href'))"
   ]
  },
  {
   "cell_type": "code",
   "execution_count": 8,
   "id": "a7010564",
   "metadata": {},
   "outputs": [
    {
     "data": {
      "text/plain": [
       "23"
      ]
     },
     "execution_count": 8,
     "metadata": {},
     "output_type": "execute_result"
    }
   ],
   "source": [
    "len(url)"
   ]
  },
  {
   "cell_type": "code",
   "execution_count": 13,
   "id": "be495723",
   "metadata": {},
   "outputs": [],
   "source": [
    "review = []\n",
    "price = []\n",
    "brand = []\n",
    "rating = []"
   ]
  },
  {
   "cell_type": "code",
   "execution_count": 11,
   "id": "cdbde67a",
   "metadata": {},
   "outputs": [],
   "source": [
    "for i in urls_lap:\n",
    "    driver.get(i)\n",
    "    time.sleep(2)\n",
    "    try:\n",
    "        p=driver.find_element_by_xpath('//div[@class=\"a-section review-views celwidget\"]')\n",
    "        reviews.append(p.text.replace('/n',''))\n",
    "    except NoSuchElementException:\n",
    "        reviews.append('-')\n",
    "    try:\n",
    "        p=driver.find_element_by_xpath('//span[@class=\"a-size-medium a-color-price priceBlockBuyingPriceString\"]')\n",
    "        price.append(p.text.replace('/n',''))\n",
    "    except NoSuchElementException:\n",
    "        price.append('-')\n",
    "    try:\n",
    "        p=driver.find_element_by_xpath('//table[@class=\"a-normal a-spacing-micro\"]/tbody/tr[2]/td[2]/span')\n",
    "        brand.append(p.text.replace('/n',''))\n",
    "    except NoSuchElementException:\n",
    "        brand.append('-')\n",
    "    try:\n",
    "        p=driver.find_element_by_xpath('//div[@class=\"a-fixed-left-grid-col aok-align-center a-col-right\"]/div[1]/span/span')\n",
    "        rating.append(p.text.replace('/n',''))\n",
    "    except NoSuchElementException:\n",
    "        rating.append('-')"
   ]
  },
  {
   "cell_type": "code",
   "execution_count": 19,
   "id": "27b26769",
   "metadata": {},
   "outputs": [],
   "source": [
    "search_bar = driver.find_element_by_id('twotabsearchtextbox')\n",
    "search_bar.send_keys('Smart watch')"
   ]
  },
  {
   "cell_type": "code",
   "execution_count": 20,
   "id": "16318f45",
   "metadata": {},
   "outputs": [],
   "source": [
    "srch = driver.find_element_by_id('nav-search-submit-button')\n",
    "srch.click()"
   ]
  },
  {
   "cell_type": "code",
   "execution_count": 21,
   "id": "b49bcaab",
   "metadata": {},
   "outputs": [],
   "source": [
    "urls_watch = []\n",
    "start=0\n",
    "end=15\n",
    "for page in range(start,end):#for loop for scrapping 3 page\n",
    "    url=driver.find_elements_by_xpath('//a[@class=\"a-link-normal a-text-normal\"]')       #scraping urls\n",
    "    for i in url:\n",
    "        urls_watch.append(i.get_attribute(\"href\"))                        #appending the urls in product_urls list\n",
    "    try:\n",
    "        nxt_button=driver.find_element_by_xpath(\"//li[@class='a-last']//a\")     #scraping the list of buttons from the page\n",
    "        nxt_button.click()\n",
    "        time.sleep(2)\n",
    "    except:\n",
    "        break"
   ]
  },
  {
   "cell_type": "code",
   "execution_count": 22,
   "id": "f970bb2c",
   "metadata": {},
   "outputs": [
    {
     "data": {
      "text/plain": [
       "422"
      ]
     },
     "execution_count": 22,
     "metadata": {},
     "output_type": "execute_result"
    }
   ],
   "source": [
    "len(urls_watch)"
   ]
  },
  {
   "cell_type": "code",
   "execution_count": 23,
   "id": "e2ebaac6",
   "metadata": {},
   "outputs": [],
   "source": [
    "for i in urls_watch:\n",
    "    driver.get(i)\n",
    "    time.sleep(2)\n",
    "    try:\n",
    "        p=driver.find_element_by_xpath('//div[@class=\"a-section review-views celwidget\"]')\n",
    "        reviews.append(p.text.replace('/n',''))\n",
    "    except NoSuchElementException:\n",
    "        reviews.append('-')\n",
    "    try:\n",
    "        p=driver.find_element_by_xpath('//span[@class=\"a-size-medium a-color-price priceBlockBuyingPriceString\"]')\n",
    "        price.append(p.text.replace('/n',''))\n",
    "    except NoSuchElementException:\n",
    "        price.append('-')\n",
    "    try:\n",
    "        p=driver.find_element_by_xpath('//table[@class=\"a-keyvalue prodDetTable\"][1]/tbody/tr[1]/td[1]')\n",
    "        brand.append(p.text.replace('/n',''))\n",
    "    except NoSuchElementException:\n",
    "        brand.append('-')\n",
    "    try:\n",
    "        p=driver.find_element_by_xpath('//div[@class=\"a-fixed-left-grid-col aok-align-center a-col-right\"]/div[1]/span/span')\n",
    "        rating.append(p.text.replace('/n',''))\n",
    "    except NoSuchElementException:\n",
    "        rating.append('-')"
   ]
  },
  {
   "cell_type": "code",
   "execution_count": 24,
   "id": "f57bb7aa",
   "metadata": {},
   "outputs": [
    {
     "data": {
      "text/plain": [
       "637"
      ]
     },
     "execution_count": 24,
     "metadata": {},
     "output_type": "execute_result"
    }
   ],
   "source": [
    "len(rating)"
   ]
  },
  {
   "cell_type": "code",
   "execution_count": 14,
   "id": "11300441",
   "metadata": {},
   "outputs": [],
   "source": [
    "dataset = pd.DataFrame({})\n",
    "dataset['reviews'] = reviews\n",
    "dataset['Price'] = price\n",
    "dataset['Brand'] = brand\n",
    "dataset['Ratings'] = rating"
   ]
  },
  {
   "cell_type": "code",
   "execution_count": 92,
   "id": "14e152a9",
   "metadata": {},
   "outputs": [],
   "source": [
    "df = pd.read_csv('ratings.csv')"
   ]
  },
  {
   "cell_type": "code",
   "execution_count": 5,
   "id": "9cce81a4",
   "metadata": {},
   "outputs": [],
   "source": [
    "search_bar = driver.find_element_by_id('twotabsearchtextbox')\n",
    "search_bar.send_keys('smart phone')\n",
    "srch = driver.find_element_by_id('nav-search-submit-button')\n",
    "srch.click()"
   ]
  },
  {
   "cell_type": "code",
   "execution_count": 6,
   "id": "733c9734",
   "metadata": {},
   "outputs": [],
   "source": [
    "url_phone = []\n",
    "start=0\n",
    "end=19\n",
    "for page in range(start,end):#for loop for scrapping 3 page\n",
    "    url=driver.find_elements_by_xpath('//a[@class=\"a-link-normal a-text-normal\"]')       #scraping urls\n",
    "    for i in url:\n",
    "        url_phone.append(i.get_attribute(\"href\"))                        #appending the urls in product_urls list\n",
    "    try:\n",
    "        nxt_button=driver.find_element_by_xpath(\"//li[@class='a-last']//a\")     #scraping the list of buttons from the page\n",
    "        nxt_button.click()\n",
    "        time.sleep(2)\n",
    "    except:\n",
    "        continue"
   ]
  },
  {
   "cell_type": "code",
   "execution_count": 8,
   "id": "4ef33023",
   "metadata": {},
   "outputs": [],
   "source": [
    "for i in url_phone:\n",
    "    driver.get(i)\n",
    "    time.sleep(2)\n",
    "    try:\n",
    "        p=driver.find_element_by_xpath('//div[@class=\"a-section review-views celwidget\"]')\n",
    "        reviews.append(p.text.replace('/n',''))\n",
    "    except NoSuchElementException:\n",
    "        reviews.append('-')\n",
    "    try:\n",
    "        p=driver.find_element_by_xpath('//span[@class=\"a-size-medium a-color-price priceBlockBuyingPriceString\"]')\n",
    "        price.append(p.text.replace('/n',''))\n",
    "    except NoSuchElementException:\n",
    "        price.append('-')\n",
    "    try:\n",
    "        p=driver.find_element_by_xpath('//table[@class=\"a-normal a-spacing-micro\"][1]/tbody/tr[3]/td[2]/span')\n",
    "        brand.append(p.text.replace('/n',''))\n",
    "    except NoSuchElementException:\n",
    "        brand.append('-')\n",
    "    try:\n",
    "        p=driver.find_element_by_xpath('//div[@class=\"a-fixed-left-grid-col aok-align-center a-col-right\"]/div[1]/span/span')\n",
    "        rating.append(p.text.replace('/n',''))\n",
    "    except NoSuchElementException:\n",
    "        rating.append('-')"
   ]
  },
  {
   "cell_type": "code",
   "execution_count": 13,
   "id": "abe9e558",
   "metadata": {},
   "outputs": [
    {
     "data": {
      "text/plain": [
       "323"
      ]
     },
     "execution_count": 13,
     "metadata": {},
     "output_type": "execute_result"
    }
   ],
   "source": [
    "len(reviews)\n"
   ]
  },
  {
   "cell_type": "code",
   "execution_count": 15,
   "id": "ca609646",
   "metadata": {},
   "outputs": [],
   "source": [
    "dataset.to_csv(r'C:\\Users\\dell\\Documents\\ratingcsv\\File Name3.csv',index=False,header=True)"
   ]
  },
  {
   "cell_type": "code",
   "execution_count": 16,
   "id": "09f933cf",
   "metadata": {},
   "outputs": [],
   "source": [
    "search_bar = driver.find_element_by_id('twotabsearchtextbox')\n",
    "search_bar.send_keys('headphones')\n",
    "srch = driver.find_element_by_id('nav-search-submit-button')\n",
    "srch.click()"
   ]
  },
  {
   "cell_type": "code",
   "execution_count": 17,
   "id": "02b42de1",
   "metadata": {},
   "outputs": [],
   "source": [
    "url_hd = []\n",
    "start=0\n",
    "end=19\n",
    "for page in range(start,end):#for loop for scrapping 3 page\n",
    "    url=driver.find_elements_by_xpath('//a[@class=\"a-link-normal a-text-normal\"]')       #scraping urls\n",
    "    for i in url:\n",
    "        url_hd.append(i.get_attribute(\"href\"))                        #appending the urls in product_urls list\n",
    "    try:\n",
    "        nxt_button=driver.find_element_by_xpath(\"//li[@class='a-last']//a\")     #scraping the list of buttons from the page\n",
    "        nxt_button.click()\n",
    "        time.sleep(2)\n",
    "    except:\n",
    "        break"
   ]
  },
  {
   "cell_type": "code",
   "execution_count": 18,
   "id": "0809a2c2",
   "metadata": {},
   "outputs": [
    {
     "data": {
      "text/plain": [
       "418"
      ]
     },
     "execution_count": 18,
     "metadata": {},
     "output_type": "execute_result"
    }
   ],
   "source": [
    "len(url_hd)"
   ]
  },
  {
   "cell_type": "code",
   "execution_count": 19,
   "id": "5a3713fe",
   "metadata": {},
   "outputs": [],
   "source": [
    "for i in url_hd:\n",
    "    driver.get(i)\n",
    "    time.sleep(2)\n",
    "    try:\n",
    "        p=driver.find_element_by_xpath('//div[@class=\"a-section review-views celwidget\"]')\n",
    "        reviews.append(p.text.replace('/n',''))\n",
    "    except NoSuchElementException:\n",
    "        reviews.append('-')\n",
    "    try:\n",
    "        p=driver.find_element_by_xpath('//span[@class=\"a-size-medium a-color-price priceBlockBuyingPriceString\"]')\n",
    "        price.append(p.text.replace('/n',''))\n",
    "    except NoSuchElementException:\n",
    "        price.append('-')\n",
    "    try:\n",
    "        p=driver.find_element_by_xpath('//table[@class=\"a-keyvalue prodDetTable\"][1]/tbody/tr[1]/td[1]')\n",
    "        brand.append(p.text.replace('/n',''))\n",
    "    except NoSuchElementException:\n",
    "        brand.append('-')\n",
    "    try:\n",
    "        p=driver.find_element_by_xpath('//div[@class=\"a-fixed-left-grid-col aok-align-center a-col-right\"]/div[1]/span/span')\n",
    "        rating.append(p.text.replace('/n',''))\n",
    "    except NoSuchElementException:\n",
    "        rating.append('-')"
   ]
  },
  {
   "cell_type": "code",
   "execution_count": 20,
   "id": "7d713194",
   "metadata": {},
   "outputs": [],
   "source": [
    "df = pd.DataFrame({})\n",
    "df['reviews'] = reviews\n",
    "df['Price'] = price\n",
    "df['Brand'] = brand\n",
    "df['Ratings'] = rating"
   ]
  },
  {
   "cell_type": "code",
   "execution_count": 21,
   "id": "62d493c6",
   "metadata": {},
   "outputs": [],
   "source": [
    "df.to_csv(r'C:\\Users\\dell\\Documents\\ratingcsv\\File Name_hdandph.csv',index=False,header=True)"
   ]
  },
  {
   "cell_type": "code",
   "execution_count": 5,
   "id": "1839f66e",
   "metadata": {},
   "outputs": [],
   "source": [
    "search_bar = driver.find_element_by_id('twotabsearchtextbox')\n",
    "search_bar.send_keys('camera')\n",
    "srch = driver.find_element_by_id('nav-search-submit-button')\n",
    "srch.click()"
   ]
  },
  {
   "cell_type": "code",
   "execution_count": 6,
   "id": "10ba7737",
   "metadata": {},
   "outputs": [],
   "source": [
    "url_cam = []\n",
    "start=0\n",
    "end=19\n",
    "for page in range(start,end):#for loop for scrapping 3 page\n",
    "    url=driver.find_elements_by_xpath('//a[@class=\"a-link-normal a-text-normal\"]')       #scraping urls\n",
    "    for i in url:\n",
    "        url_cam.append(i.get_attribute(\"href\"))                        #appending the urls in product_urls list\n",
    "    try:\n",
    "        nxt_button=driver.find_element_by_xpath(\"//li[@class='a-last']//a\")     #scraping the list of buttons from the page\n",
    "        nxt_button.click()\n",
    "        time.sleep(2)\n",
    "    except:\n",
    "        break"
   ]
  },
  {
   "cell_type": "code",
   "execution_count": 10,
   "id": "1ca867dc",
   "metadata": {},
   "outputs": [],
   "source": [
    "for i in url_cam:\n",
    "    driver.get(i)\n",
    "    time.sleep(2)\n",
    "    try:\n",
    "        p=driver.find_element_by_xpath('//div[@class=\"a-section review-views celwidget\"]')\n",
    "        reviews.append(p.text.replace('/n',''))\n",
    "    except NoSuchElementException:\n",
    "        reviews.append('-')\n",
    "    try:\n",
    "        p=driver.find_element_by_xpath('//span[@class=\"a-size-medium a-color-price priceBlockBuyingPriceString\"]')\n",
    "        price.append(p.text.replace('/n',''))\n",
    "    except NoSuchElementException:\n",
    "        price.append('-')\n",
    "    try:\n",
    "        p=driver.find_element_by_xpath('//table[@class=\"a-keyvalue prodDetTable\"][1]/tbody/tr[1]/td[1]')\n",
    "        brand.append(p.text.replace('/n',''))\n",
    "    except NoSuchElementException:\n",
    "        brand.append('-')\n",
    "    try:\n",
    "        p=driver.find_element_by_xpath('//div[@class=\"a-fixed-left-grid-col aok-align-center a-col-right\"]/div[1]/span/span')\n",
    "        rating.append(p.text.replace('/n',''))\n",
    "    except NoSuchElementException:\n",
    "        rating.append('-')"
   ]
  },
  {
   "cell_type": "code",
   "execution_count": 15,
   "id": "34823c54",
   "metadata": {},
   "outputs": [],
   "source": [
    "dataset = pd.DataFrame({})\n",
    "dataset['reviews'] = reviews\n",
    "dataset['Price'] = price\n",
    "dataset['Brand'] = brand\n",
    "dataset['Ratings'] = rating"
   ]
  },
  {
   "cell_type": "code",
   "execution_count": 16,
   "id": "9f00b663",
   "metadata": {},
   "outputs": [],
   "source": [
    "dataset.to_csv(r'C:\\Users\\dell\\Documents\\ratingcsv\\cam.csv',index=False,header=True)"
   ]
  },
  {
   "cell_type": "code",
   "execution_count": 5,
   "id": "fc081a54",
   "metadata": {},
   "outputs": [],
   "source": [
    "search_bar = driver.find_element_by_id('twotabsearchtextbox')\n",
    "search_bar.send_keys('Home theatre')\n",
    "srch = driver.find_element_by_id('nav-search-submit-button')\n",
    "srch.click()"
   ]
  },
  {
   "cell_type": "code",
   "execution_count": 6,
   "id": "4c1dbd17",
   "metadata": {},
   "outputs": [],
   "source": [
    "url_ht = []\n",
    "start=0\n",
    "end=19\n",
    "for page in range(start,end):#for loop for scrapping 3 page\n",
    "    url=driver.find_elements_by_xpath('//a[@class=\"a-link-normal a-text-normal\"]')       #scraping urls\n",
    "    for i in url:\n",
    "        url_ht.append(i.get_attribute(\"href\"))                        #appending the urls in product_urls list\n",
    "    try:\n",
    "        nxt_button=driver.find_element_by_xpath(\"//li[@class='a-last']//a\")     #scraping the list of buttons from the page\n",
    "        nxt_button.click()\n",
    "        time.sleep(2)\n",
    "    except:\n",
    "        break"
   ]
  },
  {
   "cell_type": "code",
   "execution_count": 8,
   "id": "1c37e310",
   "metadata": {},
   "outputs": [],
   "source": [
    "for i in url_ht:\n",
    "    driver.get(i)\n",
    "    time.sleep(2)\n",
    "    try:\n",
    "        p=driver.find_element_by_xpath('//div[@class=\"a-section review-views celwidget\"]')\n",
    "        reviews.append(p.text.replace('/n',''))\n",
    "    except NoSuchElementException:\n",
    "        reviews.append('-')\n",
    "    try:\n",
    "        p=driver.find_element_by_xpath('//span[@class=\"a-size-medium a-color-price priceBlockBuyingPriceString\"]')\n",
    "        price.append(p.text.replace('/n',''))\n",
    "    except NoSuchElementException:\n",
    "        price.append('-')\n",
    "    try:\n",
    "        p=driver.find_element_by_xpath('//table[@class=\"a-keyvalue prodDetTable\"][1]/tbody/tr[1]/td[1]')\n",
    "        brand.append(p.text.replace('/n',''))\n",
    "    except NoSuchElementException:\n",
    "        brand.append('-')\n",
    "    try:\n",
    "        p=driver.find_element_by_xpath('//div[@class=\"a-fixed-left-grid-col aok-align-center a-col-right\"]/div[1]/span/span')\n",
    "        rating.append(p.text.replace('/n',''))\n",
    "    except NoSuchElementException:\n",
    "        rating.append('-')"
   ]
  },
  {
   "cell_type": "code",
   "execution_count": 13,
   "id": "b3e34b6a",
   "metadata": {},
   "outputs": [],
   "source": [
    "dataset = pd.DataFrame({})\n",
    "dataset['reviews'] = reviews\n",
    "dataset['Price'] = price\n",
    "dataset['Brand'] = brand\n",
    "dataset['Ratings'] = rating"
   ]
  },
  {
   "cell_type": "code",
   "execution_count": 14,
   "id": "d8628c16",
   "metadata": {},
   "outputs": [],
   "source": [
    "dataset.to_csv(r'C:\\Users\\dell\\Documents\\ratingcsv\\hometheatre.csv',index=False,header=True)"
   ]
  },
  {
   "cell_type": "code",
   "execution_count": 5,
   "id": "d19a0ee9",
   "metadata": {},
   "outputs": [],
   "source": [
    "search_bar = driver.find_element_by_id('twotabsearchtextbox')\n",
    "search_bar.send_keys('printer')\n",
    "srch = driver.find_element_by_id('nav-search-submit-button')\n",
    "srch.click()"
   ]
  },
  {
   "cell_type": "code",
   "execution_count": 6,
   "id": "340036b5",
   "metadata": {},
   "outputs": [],
   "source": [
    "url_printer = []\n",
    "start=0\n",
    "end=19\n",
    "for page in range(start,end):#for loop for scrapping 3 page\n",
    "    url=driver.find_elements_by_xpath('//a[@class=\"a-link-normal a-text-normal\"]')       #scraping urls\n",
    "    for i in url:\n",
    "        url_printer.append(i.get_attribute(\"href\"))                        #appending the urls in product_urls list\n",
    "    try:\n",
    "        nxt_button=driver.find_element_by_xpath(\"//li[@class='a-last']//a\")     #scraping the list of buttons from the page\n",
    "        nxt_button.click()\n",
    "        time.sleep(2)\n",
    "    except:\n",
    "        break"
   ]
  },
  {
   "cell_type": "code",
   "execution_count": 9,
   "id": "eb76b59e",
   "metadata": {},
   "outputs": [],
   "source": [
    "for i in url_printer:\n",
    "    driver.get(i)\n",
    "    time.sleep(2)\n",
    "    try:\n",
    "        p=driver.find_element_by_xpath('//div[@class=\"a-section review-views celwidget\"]')\n",
    "        reviews.append(p.text.replace('/n',''))\n",
    "    except NoSuchElementException:\n",
    "        reviews.append('-')\n",
    "    try:\n",
    "        p=driver.find_element_by_xpath('//span[@class=\"a-size-medium a-color-price priceBlockBuyingPriceString\"]')\n",
    "        price.append(p.text.replace('/n',''))\n",
    "    except NoSuchElementException:\n",
    "        price.append('-')\n",
    "    try:\n",
    "        p=driver.find_element_by_xpath('//table[@class=\"a-keyvalue prodDetTable\"][1]/tbody/tr[1]/td[1]')\n",
    "        brand.append(p.text.replace('/n',''))\n",
    "    except NoSuchElementException:\n",
    "        brand.append('-')\n",
    "    try:\n",
    "        p=driver.find_element_by_xpath('//div[@class=\"a-fixed-left-grid-col aok-align-center a-col-right\"]/div[1]/span/span')\n",
    "        rating.append(p.text.replace('/n',''))\n",
    "    except NoSuchElementException:\n",
    "        rating.append('-')"
   ]
  },
  {
   "cell_type": "code",
   "execution_count": 30,
   "id": "083012eb",
   "metadata": {},
   "outputs": [],
   "source": [
    "dataset = pd.DataFrame({})\n",
    "dataset['reviews'] = review\n",
    "dataset['Price'] = price\n",
    "dataset['Brand'] = brand\n",
    "dataset['Ratings'] = rating"
   ]
  },
  {
   "cell_type": "code",
   "execution_count": 31,
   "id": "ba3c4896",
   "metadata": {},
   "outputs": [],
   "source": [
    "dataset.to_csv(r'C:\\Users\\dell\\Documents\\ratingcsv\\cpu_amazon.csv',index=False,header=True)"
   ]
  },
  {
   "cell_type": "code",
   "execution_count": 5,
   "id": "cfb68abc",
   "metadata": {},
   "outputs": [],
   "source": [
    "search_bar = driver.find_element_by_id('twotabsearchtextbox')\n",
    "search_bar.send_keys('monitor')\n",
    "srch = driver.find_element_by_id('nav-search-submit-button')\n",
    "srch.click()"
   ]
  },
  {
   "cell_type": "code",
   "execution_count": 6,
   "id": "4a043628",
   "metadata": {},
   "outputs": [],
   "source": [
    "url_monitor = []\n",
    "start=0\n",
    "end=19\n",
    "for page in range(start,end):#for loop for scrapping 3 page\n",
    "    url=driver.find_elements_by_xpath('//a[@class=\"a-link-normal a-text-normal\"]')       #scraping urls\n",
    "    for i in url:\n",
    "        url_monitor.append(i.get_attribute(\"href\"))                        #appending the urls in product_urls list\n",
    "    try:\n",
    "        nxt_button=driver.find_element_by_xpath(\"//li[@class='a-last']//a\")     #scraping the list of buttons from the page\n",
    "        nxt_button.click()\n",
    "        time.sleep(2)\n",
    "    except:\n",
    "        break"
   ]
  },
  {
   "cell_type": "code",
   "execution_count": 8,
   "id": "4c11a784",
   "metadata": {},
   "outputs": [],
   "source": [
    "for i in url_monitor:\n",
    "    driver.get(i)\n",
    "    time.sleep(2)\n",
    "    try:\n",
    "        p=driver.find_element_by_xpath('//div[@class=\"a-section review-views celwidget\"]')\n",
    "        reviews.append(p.text.replace('/n',''))\n",
    "    except NoSuchElementException:\n",
    "        reviews.append('-')\n",
    "    try:\n",
    "        p=driver.find_element_by_xpath('//span[@class=\"a-size-medium a-color-price priceBlockBuyingPriceString\"]')\n",
    "        price.append(p.text.replace('/n',''))\n",
    "    except NoSuchElementException:\n",
    "        price.append('-')\n",
    "    try:\n",
    "        p=driver.find_element_by_xpath('//table[@class=\"a-keyvalue prodDetTable\"][1]/tbody/tr[1]/td[1]')\n",
    "        brand.append(p.text.replace('/n',''))\n",
    "    except NoSuchElementException:\n",
    "        brand.append('-')\n",
    "    try:\n",
    "        p=driver.find_element_by_xpath('//div[@class=\"a-fixed-left-grid-col aok-align-center a-col-right\"]/div[1]/span/span')\n",
    "        rating.append(p.text.replace('/n',''))\n",
    "    except NoSuchElementException:\n",
    "        rating.append('-')"
   ]
  },
  {
   "cell_type": "code",
   "execution_count": 21,
   "id": "cfc4f1cb",
   "metadata": {},
   "outputs": [],
   "source": [
    "dataset = pd.DataFrame({})\n",
    "dataset['reviews'] = review\n",
    "dataset['Price'] = price\n",
    "dataset['Brand'] = brand\n",
    "dataset['Ratings'] = rating"
   ]
  },
  {
   "cell_type": "code",
   "execution_count": 22,
   "id": "2f2e3464",
   "metadata": {},
   "outputs": [],
   "source": [
    "dataset.to_csv(r'C:\\Users\\dell\\Documents\\ratingcsv\\bluetooth_amazon.csv',index=False,header=True)"
   ]
  },
  {
   "cell_type": "code",
   "execution_count": 44,
   "id": "29caa116",
   "metadata": {},
   "outputs": [],
   "source": [
    "df_amazon.to_csv(r'C:\\Users\\dell\\Documents\\ratingcsv\\amazon_df.csv',index=False,header=True)"
   ]
  },
  {
   "cell_type": "code",
   "execution_count": 5,
   "id": "41086ba9",
   "metadata": {},
   "outputs": [],
   "source": [
    "urls_m = []\n",
    "start=0\n",
    "end=20\n",
    "for page in range(start,end):#for loop for scrapping 3 page\n",
    "    url=driver.find_elements_by_xpath('//a[@class=\"a-link-normal a-text-normal\"]')       #scraping urls\n",
    "    for i in url:\n",
    "        urls_m.append(i.get_attribute(\"href\"))                        #appending the urls in product_urls list\n",
    "    try:\n",
    "        nxt_button=driver.find_element_by_xpath('//a[@class=\"s-pagination-item s-pagination-next s-pagination-button s-pagination-separator\"]')     #scraping the list of buttons from the page\n",
    "        nxt_button.click()\n",
    "        time.sleep(2)\n",
    "    except:\n",
    "        break"
   ]
  },
  {
   "cell_type": "code",
   "execution_count": 14,
   "id": "10e038a2",
   "metadata": {},
   "outputs": [],
   "source": [
    "urls = urls_pd[3:]"
   ]
  },
  {
   "cell_type": "code",
   "execution_count": 12,
   "id": "04866fc3",
   "metadata": {},
   "outputs": [],
   "source": [
    "review = []\n",
    "price = []\n",
    "brand = []\n",
    "rating = []"
   ]
  },
  {
   "cell_type": "code",
   "execution_count": 13,
   "id": "4f56ba54",
   "metadata": {},
   "outputs": [],
   "source": [
    "for i in url:\n",
    "    driver.get(i)\n",
    "    time.sleep(2)\n",
    "    try:\n",
    "        p=driver.find_element_by_xpath('//a[@class=\"a-size-base a-link-normal review-title a-color-base review-title-content a-text-bold\"]/span')\n",
    "        review.append(p.text.replace('/n',''))\n",
    "    except NoSuchElementException:\n",
    "        review.append('-')\n",
    "    try:\n",
    "        p=driver.find_element_by_xpath('//span[@class=\"a-size-medium a-color-price priceBlockBuyingPriceString\"]')\n",
    "        price.append(p.text.replace('/n',''))\n",
    "    except NoSuchElementException:\n",
    "        price.append('-')\n",
    "    try:\n",
    "        p=driver.find_element_by_xpath('//table[@class=\"a-normal a-spacing-micro\"]/tbody/tr[2]/td[2]/span')\n",
    "        brand.append(p.text.replace('/n',''))\n",
    "    except NoSuchElementException:\n",
    "        brand.append('-')\n",
    "    try:\n",
    "        p=driver.find_element_by_xpath('//div[@class=\"a-fixed-left-grid-col aok-align-center a-col-right\"]/div[1]/span/span')\n",
    "        rating.append(p.text.replace('/n',''))\n",
    "    except NoSuchElementException:\n",
    "        rating.append('-')"
   ]
  },
  {
   "cell_type": "code",
   "execution_count": 9,
   "id": "ba1cc5ce",
   "metadata": {},
   "outputs": [],
   "source": [
    "url_modem = []\n",
    "start=0\n",
    "end=20\n",
    "for page in range(start,end):#for loop for scrapping 3 page\n",
    "    url=driver.find_elements_by_xpath('//a[@class=\"a-link-normal a-text-normal\"]')       #scraping urls\n",
    "    for i in url:\n",
    "        url_modem.append(i.get_attribute(\"href\"))                        #appending the urls in product_urls list\n",
    "    try:\n",
    "        nxt_button=driver.find_element_by_xpath('//li[@class=\"a-last\"]//a')     #scraping the list of buttons from the page\n",
    "        nxt_button.click()\n",
    "        time.sleep(2)\n",
    "    except:\n",
    "        break"
   ]
  },
  {
   "cell_type": "code",
   "execution_count": 16,
   "id": "b052a54b",
   "metadata": {},
   "outputs": [],
   "source": [
    "urls = url_modem[3:]"
   ]
  },
  {
   "cell_type": "code",
   "execution_count": 17,
   "id": "219609b6",
   "metadata": {},
   "outputs": [],
   "source": [
    "for i in urls:\n",
    "    driver.get(i)\n",
    "    time.sleep(2)\n",
    "    try:\n",
    "        p=driver.find_element_by_xpath('//a[@class=\"a-size-base a-link-normal review-title a-color-base review-title-content a-text-bold\"]/span')\n",
    "        review.append(p.text.replace('/n',''))\n",
    "    except NoSuchElementException:\n",
    "        review.append('-')\n",
    "    try:\n",
    "        p=driver.find_element_by_xpath('//span[@class=\"a-size-medium a-color-price priceBlockBuyingPriceString\"]')\n",
    "        price.append(p.text.replace('/n',''))\n",
    "    except NoSuchElementException:\n",
    "        price.append('-')\n",
    "    try:\n",
    "        p=driver.find_element_by_xpath('//table[@class=\"a-normal a-spacing-micro\"]/tbody/tr[2]/td[2]/span')\n",
    "        brand.append(p.text.replace('/n',''))\n",
    "    except NoSuchElementException:\n",
    "        brand.append('-')\n",
    "    try:\n",
    "        p=driver.find_element_by_xpath('//div[@class=\"a-fixed-left-grid-col aok-align-center a-col-right\"]/div[1]/span/span')\n",
    "        rating.append(p.text.replace('/n',''))\n",
    "    except NoSuchElementException:\n",
    "        rating.append('-')"
   ]
  },
  {
   "cell_type": "code",
   "execution_count": 19,
   "id": "62bfb116",
   "metadata": {},
   "outputs": [
    {
     "data": {
      "text/plain": [
       "491"
      ]
     },
     "execution_count": 19,
     "metadata": {},
     "output_type": "execute_result"
    }
   ],
   "source": [
    "len(rating)"
   ]
  },
  {
   "cell_type": "code",
   "execution_count": 10,
   "id": "77b3fc9e",
   "metadata": {},
   "outputs": [],
   "source": [
    "urls = []\n",
    "start=0\n",
    "end=15\n",
    "for page in range(start,end):#for loop for scrapping 3 page\n",
    "    url=driver.find_elements_by_xpath('//a[@class=\"a-link-normal a-text-normal\"]')       #scraping urls\n",
    "    for i in url:\n",
    "        urls.append(i.get_attribute(\"href\"))                        #appending the urls in product_urls list\n",
    "    try:\n",
    "        nxt_button=driver.find_element_by_xpath('//a[@class=\"s-pagination-item s-pagination-next s-pagination-button s-pagination-separator\"]')     #scraping the list of buttons from the page\n",
    "        nxt_button.click()\n",
    "        time.sleep(2)\n",
    "    except:\n",
    "        break"
   ]
  },
  {
   "cell_type": "code",
   "execution_count": 17,
   "id": "ad11ec07",
   "metadata": {},
   "outputs": [],
   "source": [
    "ur = urls[3:]"
   ]
  },
  {
   "cell_type": "code",
   "execution_count": 1,
   "id": "f22ac969",
   "metadata": {},
   "outputs": [],
   "source": [
    "for i in ur:\n",
    "    driver.get(i)\n",
    "    time.sleep(2)\n",
    "    try:\n",
    "        p=driver.find_element_by_xpath('//a[@class=\"a-size-base a-link-normal review-title a-color-base review-title-content a-text-bold\"]/span')\n",
    "        review.append(p.text.replace('/n',''))\n",
    "    except NoSuchElementException:\n",
    "        review.append('-')\n",
    "    try:\n",
    "        p=driver.find_element_by_xpath('//span[@class=\"a-size-medium a-color-price priceBlockBuyingPriceString\"]')\n",
    "        price.append(p.text.replace('/n',''))\n",
    "    except NoSuchElementException:\n",
    "        price.append('-')\n",
    "    try:\n",
    "        p=driver.find_element_by_xpath('//table[@class=\"a-normal a-spacing-micro\"]/tbody/tr[2]/td[2]/span')\n",
    "        brand.append(p.text.replace('/n',''))\n",
    "    except NoSuchElementException:\n",
    "        brand.append('-')\n",
    "    try:\n",
    "        p=driver.find_element_by_xpath('//div[@class=\"a-fixed-left-grid-col aok-align-center a-col-right\"]/div[1]/span/span')\n",
    "        rating.append(p.text.replace('/n',''))\n",
    "    except NoSuchElementException:\n",
    "        rating.append('-')"
   ]
  },
  {
   "cell_type": "code",
   "execution_count": null,
   "id": "f4de0b8d",
   "metadata": {},
   "outputs": [],
   "source": []
  }
 ],
 "metadata": {
  "kernelspec": {
   "display_name": "Python 3",
   "language": "python",
   "name": "python3"
  },
  "language_info": {
   "codemirror_mode": {
    "name": "ipython",
    "version": 3
   },
   "file_extension": ".py",
   "mimetype": "text/x-python",
   "name": "python",
   "nbconvert_exporter": "python",
   "pygments_lexer": "ipython3",
   "version": "3.8.8"
  }
 },
 "nbformat": 4,
 "nbformat_minor": 5
}

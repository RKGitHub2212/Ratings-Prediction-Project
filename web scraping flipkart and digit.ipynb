{
 "cells": [
  {
   "cell_type": "code",
   "execution_count": 1,
   "id": "4df7cfd8",
   "metadata": {},
   "outputs": [],
   "source": [
    "import selenium\n",
    "import pandas as pd\n",
    "from selenium import webdriver"
   ]
  },
  {
   "cell_type": "code",
   "execution_count": 2,
   "id": "7d1e37cb",
   "metadata": {},
   "outputs": [],
   "source": [
    "import time\n",
    "from selenium.common.exceptions import NoSuchElementException"
   ]
  },
  {
   "cell_type": "code",
   "execution_count": 3,
   "id": "ec50541b",
   "metadata": {},
   "outputs": [],
   "source": [
    "driver = webdriver.Chrome(r\"C:\\Users\\dell\\Downloads\\chromedriver_win32 (1)\\chromedriver.exe\")"
   ]
  },
  {
   "cell_type": "code",
   "execution_count": 4,
   "id": "01e68cdc",
   "metadata": {},
   "outputs": [],
   "source": [
    "driver.get('https://www.flipkart.com/')"
   ]
  },
  {
   "cell_type": "code",
   "execution_count": 5,
   "id": "55ce9d2a",
   "metadata": {},
   "outputs": [],
   "source": [
    "search_bar = driver.find_element_by_xpath('//div[@class=\"_3OO5Xc\"]/input')\n",
    "search_bar.send_keys('laptop')"
   ]
  },
  {
   "cell_type": "code",
   "execution_count": 6,
   "id": "56bd648f",
   "metadata": {},
   "outputs": [],
   "source": [
    "srch = driver.find_element_by_xpath('//button[@class=\"L0Z3Pu\"]')\n",
    "srch.click()"
   ]
  },
  {
   "cell_type": "code",
   "execution_count": 5,
   "id": "cdbbd7ef",
   "metadata": {},
   "outputs": [],
   "source": [
    "urls_modem = []\n",
    "start=0\n",
    "end=15\n",
    "for page in range(start,end):\n",
    "    url=driver.find_elements_by_xpath('//a[@class=\"_1fQZEK\"]')     \n",
    "    for i in url:\n",
    "        urls_modem.append(i.get_attribute(\"href\"))                        \n",
    "    try:\n",
    "        nxt_button=driver.find_element_by_xpath(\"//a[@class='_1LKTO3']\")     \n",
    "        nxt_button.click()\n",
    "        time.sleep(2)\n",
    "    except:\n",
    "        break"
   ]
  },
  {
   "cell_type": "code",
   "execution_count": 6,
   "id": "b4616232",
   "metadata": {},
   "outputs": [
    {
     "data": {
      "text/plain": [
       "[]"
      ]
     },
     "execution_count": 6,
     "metadata": {},
     "output_type": "execute_result"
    }
   ],
   "source": [
    "urls_modem"
   ]
  },
  {
   "cell_type": "code",
   "execution_count": 32,
   "id": "54ca62ad",
   "metadata": {},
   "outputs": [],
   "source": [
    "reviews = []\n",
    "price = []\n",
    "brand = []\n",
    "rating = []"
   ]
  },
  {
   "cell_type": "code",
   "execution_count": 10,
   "id": "38a034f3",
   "metadata": {},
   "outputs": [],
   "source": [
    "for i in urls_lap:\n",
    "    driver.get(i)\n",
    "    time.sleep(2)\n",
    "    try:\n",
    "        #p=driver.find_element_by_xpath('//div[@class=\"_2c2kV-\"]')\n",
    "        p=driver.find_element_by_xpath('//div[@class=\"t-ZTKy\"][1]')\n",
    "        reviews.append(p.text.replace('/n',''))\n",
    "    except NoSuchElementException:\n",
    "        reviews.append('-')\n",
    "    try:\n",
    "        p=driver.find_element_by_xpath('//div[@class=\"_25b18c\"]/div')\n",
    "        price.append(p.text.replace('/n',''))\n",
    "    except NoSuchElementException:\n",
    "        price.append('-')\n",
    "    try:\n",
    "        p=driver.find_element_by_xpath('//table[@class=\"_14cfVK\"]/tbody/tr[4]/td[2]')\n",
    "        brand.append(p.text.replace('/n',''))\n",
    "    except NoSuchElementException:\n",
    "        brand.append('-')\n",
    "    try:\n",
    "        p=driver.find_element_by_xpath('//div[@class=\"_3LWZlK _1BLPMq\"]')\n",
    "        rating.append(p.text.replace('/n',''))\n",
    "    except NoSuchElementException:\n",
    "        rating.append('-')"
   ]
  },
  {
   "cell_type": "code",
   "execution_count": 15,
   "id": "61705040",
   "metadata": {},
   "outputs": [],
   "source": [
    "dataset = pd.DataFrame({})\n",
    "dataset['reviews'] = reviews\n",
    "dataset['Price'] = price\n",
    "dataset['Brand'] = brand\n",
    "dataset['Ratings'] = rating"
   ]
  },
  {
   "cell_type": "code",
   "execution_count": 16,
   "id": "04a3c29a",
   "metadata": {},
   "outputs": [],
   "source": [
    "dataset.to_csv(r'C:\\Users\\dell\\Documents\\ratingcsv\\lap_flip.csv',index=False,header=True)"
   ]
  },
  {
   "cell_type": "code",
   "execution_count": 5,
   "id": "2f41018b",
   "metadata": {},
   "outputs": [],
   "source": [
    "search_bar = driver.find_element_by_xpath('//div[@class=\"_3OO5Xc\"]/input')\n",
    "search_bar.send_keys('smart phones')"
   ]
  },
  {
   "cell_type": "code",
   "execution_count": 6,
   "id": "f658d515",
   "metadata": {},
   "outputs": [],
   "source": [
    "srch = driver.find_element_by_xpath('//button[@class=\"L0Z3Pu\"]')\n",
    "srch.click()"
   ]
  },
  {
   "cell_type": "code",
   "execution_count": 10,
   "id": "1e1405f8",
   "metadata": {},
   "outputs": [],
   "source": [
    "urls_phs = []\n",
    "start=0\n",
    "end=30\n",
    "for page in range(start,end):\n",
    "    url=driver.find_elements_by_xpath('//a[@class=\"_1fQZEK\"]')     \n",
    "    for i in url:\n",
    "        urls_phs.append(i.get_attribute(\"href\"))                        \n",
    "    try:\n",
    "        nxt_button=driver.find_element_by_xpath(\"//a[@class='_1LKTO3'][2]\")     \n",
    "        nxt_button.click()\n",
    "        time.sleep(2)\n",
    "    except:\n",
    "        nxt_button=driver.find_element_by_xpath(\"//a[@class='_1LKTO3'][1]\")     \n",
    "        nxt_button.click()\n",
    "        time.sleep(2)"
   ]
  },
  {
   "cell_type": "code",
   "execution_count": 12,
   "id": "954bcc57",
   "metadata": {},
   "outputs": [],
   "source": [
    "for i in urls_phs:\n",
    "    driver.get(i)\n",
    "    time.sleep(2)\n",
    "    try:\n",
    "        #p=driver.find_element_by_xpath('//div[@class=\"_2c2kV-\"]')\n",
    "        p=driver.find_element_by_xpath('//div[@class=\"t-ZTKy\"][1]')\n",
    "        reviews.append(p.text.replace('/n',''))\n",
    "    except NoSuchElementException:\n",
    "        reviews.append('-')\n",
    "    try:\n",
    "        p=driver.find_element_by_xpath('//div[@class=\"_25b18c\"]/div')\n",
    "        price.append(p.text.replace('/n',''))\n",
    "    except NoSuchElementException:\n",
    "        price.append('-')\n",
    "    try:\n",
    "        p=driver.find_element_by_xpath('//table[@class=\"_14cfVK\"]/tbody/tr[4]/td[2]')\n",
    "        brand.append(p.text.replace('/n',''))\n",
    "    except NoSuchElementException:\n",
    "        brand.append('-')\n",
    "    try:\n",
    "        p=driver.find_element_by_xpath('//div[@class=\"_3LWZlK _1BLPMq\"]')\n",
    "        rating.append(p.text.replace('/n',''))\n",
    "    except NoSuchElementException:\n",
    "        rating.append('-')"
   ]
  },
  {
   "cell_type": "code",
   "execution_count": 17,
   "id": "73e8b336",
   "metadata": {},
   "outputs": [],
   "source": [
    "dataset = pd.DataFrame({})\n",
    "dataset['reviews'] = reviews\n",
    "dataset['Price'] = price\n",
    "dataset['Brand'] = brand\n",
    "dataset['Ratings'] = rating"
   ]
  },
  {
   "cell_type": "code",
   "execution_count": 16,
   "id": "9271c3b2",
   "metadata": {},
   "outputs": [],
   "source": [
    "dataset.to_csv(r'C:\\Users\\dell\\Documents\\ratingcsv\\keyboard_flip.csv',index=False,header=True)"
   ]
  },
  {
   "cell_type": "code",
   "execution_count": 5,
   "id": "023454e7",
   "metadata": {},
   "outputs": [],
   "source": [
    "search_bar = driver.find_element_by_xpath('//div[@class=\"_3OO5Xc\"]/input')\n",
    "search_bar.send_keys('smart watch')"
   ]
  },
  {
   "cell_type": "code",
   "execution_count": 6,
   "id": "c2ceb5db",
   "metadata": {},
   "outputs": [],
   "source": [
    "srch = driver.find_element_by_xpath('//button[@class=\"L0Z3Pu\"]')\n",
    "srch.click()"
   ]
  },
  {
   "cell_type": "code",
   "execution_count": 5,
   "id": "00f00465",
   "metadata": {},
   "outputs": [],
   "source": [
    "urls_tv = []\n",
    "start=0\n",
    "end=30\n",
    "for page in range(start,end):\n",
    "    url=driver.find_elements_by_xpath('//a[@class=\"_1fQZEK\"]')     \n",
    "    for i in url:\n",
    "        urls_tv.append(i.get_attribute(\"href\"))                        \n",
    "    try:\n",
    "        nxt_button=driver.find_element_by_xpath(\"//a[@class='_1LKTO3'][2]\")     \n",
    "        nxt_button.click()\n",
    "        time.sleep(2)\n",
    "    except:\n",
    "        nxt_button=driver.find_element_by_xpath(\"//a[@class='_1LKTO3'][1]\")     \n",
    "        nxt_button.click()\n",
    "        time.sleep(2)"
   ]
  },
  {
   "cell_type": "code",
   "execution_count": 6,
   "id": "bdc98212",
   "metadata": {},
   "outputs": [
    {
     "data": {
      "text/plain": [
       "720"
      ]
     },
     "execution_count": 6,
     "metadata": {},
     "output_type": "execute_result"
    }
   ],
   "source": []
  },
  {
   "cell_type": "code",
   "execution_count": 10,
   "id": "302255df",
   "metadata": {},
   "outputs": [],
   "source": [
    "for i in urls_watch:\n",
    "    driver.get(i)\n",
    "    time.sleep(2)\n",
    "    try:\n",
    "        #p=driver.find_element_by_xpath('//div[@class=\"_2c2kV-\"]')\n",
    "        p=driver.find_element_by_xpath('//div[@class=\"t-ZTKy\"][1]')\n",
    "        reviews.append(p.text.replace('/n',''))\n",
    "    except NoSuchElementException:\n",
    "        reviews.append('-')\n",
    "    try:\n",
    "        p=driver.find_element_by_xpath('//div[@class=\"_25b18c\"]/div')\n",
    "        price.append(p.text.replace('/n',''))\n",
    "    except NoSuchElementException:\n",
    "        price.append('-')\n",
    "    try:\n",
    "        p=driver.find_element_by_xpath('//table[@class=\"_14cfVK\"]/tbody/tr[4]/td[2]')\n",
    "        brand.append(p.text.replace('/n',''))\n",
    "    except NoSuchElementException:\n",
    "        brand.append('-')\n",
    "    try:\n",
    "        p=driver.find_element_by_xpath('//div[@class=\"_3LWZlK _1BLPMq\"]')\n",
    "        rating.append(p.text.replace('/n',''))\n",
    "    except NoSuchElementException:\n",
    "        rating.append('-')"
   ]
  },
  {
   "cell_type": "code",
   "execution_count": 16,
   "id": "213f0d26",
   "metadata": {},
   "outputs": [],
   "source": [
    "dataset = pd.DataFrame({})\n",
    "dataset['reviews'] = reviews\n",
    "dataset['Price'] = price\n",
    "dataset['Brand'] = brand\n",
    "dataset['Ratings'] = rating"
   ]
  },
  {
   "cell_type": "code",
   "execution_count": 17,
   "id": "42eb6013",
   "metadata": {},
   "outputs": [],
   "source": [
    "dataset.to_csv(r'C:\\Users\\dell\\Documents\\ratingcsv\\keyboard_flip.csv',index=False,header=True)"
   ]
  },
  {
   "cell_type": "code",
   "execution_count": 5,
   "id": "420278ae",
   "metadata": {},
   "outputs": [],
   "source": [
    "search_bar = driver.find_element_by_xpath('//div[@class=\"_3OO5Xc\"]/input')\n",
    "search_bar.send_keys('headphones')"
   ]
  },
  {
   "cell_type": "code",
   "execution_count": 6,
   "id": "3905e3f7",
   "metadata": {},
   "outputs": [],
   "source": [
    "srch = driver.find_element_by_xpath('//button[@class=\"L0Z3Pu\"]')\n",
    "srch.click()"
   ]
  },
  {
   "cell_type": "code",
   "execution_count": 5,
   "id": "1030f8df",
   "metadata": {},
   "outputs": [],
   "source": [
    "urls_pd = []\n",
    "start=0\n",
    "end=25\n",
    "for page in range(start,end):\n",
    "    try:\n",
    "        url=driver.find_elements_by_xpath('//a[@class=\"s1Q9rs\"]')     \n",
    "        for i in url:\n",
    "            urls_pd.append(i.get_attribute(\"href\"))\n",
    "    except:\n",
    "        break\n",
    "    try:\n",
    "        nxt_button=driver.find_element_by_xpath(\"//a[@class='_1LKTO3'][2]\")     \n",
    "        nxt_button.click()\n",
    "        time.sleep(2)\n",
    "    except:\n",
    "        nxt_button=driver.find_element_by_xpath(\"//a[@class='_1LKTO3'][1]\")     \n",
    "        nxt_button.click()\n",
    "        time.sleep(2)"
   ]
  },
  {
   "cell_type": "code",
   "execution_count": 6,
   "id": "9affd39d",
   "metadata": {},
   "outputs": [
    {
     "data": {
      "text/plain": [
       "1000"
      ]
     },
     "execution_count": 6,
     "metadata": {},
     "output_type": "execute_result"
    }
   ],
   "source": [
    "len(urls_pd)"
   ]
  },
  {
   "cell_type": "code",
   "execution_count": 7,
   "id": "d276e924",
   "metadata": {},
   "outputs": [],
   "source": [
    "reviews = []\n",
    "price = []\n",
    "brand = []\n",
    "rating = []"
   ]
  },
  {
   "cell_type": "code",
   "execution_count": 12,
   "id": "e1c02bb1",
   "metadata": {},
   "outputs": [],
   "source": [
    "urls = urls_tv[3:]\n"
   ]
  },
  {
   "cell_type": "code",
   "execution_count": 13,
   "id": "d0ab882d",
   "metadata": {},
   "outputs": [],
   "source": [
    "for i in urls:\n",
    "    driver.get(i)\n",
    "    time.sleep(2)\n",
    "    try:\n",
    "        #p=driver.find_element_by_xpath('//div[@class=\"_2c2kV-\"]')\n",
    "        p=driver.find_element_by_xpath('//div[@class=\"t-ZTKy\"][1]')\n",
    "        reviews.append(p.text.replace('/n',''))\n",
    "    except NoSuchElementException:\n",
    "        reviews.append('-')\n",
    "    try:\n",
    "        p=driver.find_element_by_xpath('//div[@class=\"_25b18c\"]/div')\n",
    "        price.append(p.text.replace('/n',''))\n",
    "    except NoSuchElementException:\n",
    "        price.append('-')\n",
    "    try:\n",
    "        p=driver.find_element_by_xpath('//table[@class=\"_14cfVK\"]/tbody/tr[4]/td[2]')\n",
    "        brand.append(p.text.replace('/n',''))\n",
    "    except NoSuchElementException:\n",
    "        brand.append('-')\n",
    "    try:\n",
    "        p=driver.find_element_by_xpath('//div[@class=\"_3LWZlK _1BLPMq\"]')\n",
    "        rating.append(p.text.replace('/n',''))\n",
    "    except NoSuchElementException:\n",
    "        rating.append('-')"
   ]
  },
  {
   "cell_type": "code",
   "execution_count": 16,
   "id": "8e4d86ef",
   "metadata": {},
   "outputs": [
    {
     "data": {
      "text/plain": [
       "720"
      ]
     },
     "execution_count": 16,
     "metadata": {},
     "output_type": "execute_result"
    }
   ],
   "source": [
    "len(rating)"
   ]
  },
  {
   "cell_type": "code",
   "execution_count": 28,
   "id": "81990eaa",
   "metadata": {},
   "outputs": [],
   "source": [
    "def num_to_words(text):\n",
    "    after_spliting = text.split()\n",
    "    for index in range(len(after_spliting)):\n",
    "        if after_spliting[index].isdigit():\n",
    "            after_spliting[index] = num2words(after_spliting[index])\n",
    "    numbers_to_words = ' '.join(after_spliting)\n",
    "    return numbers_to_words"
   ]
  },
  {
   "cell_type": "code",
   "execution_count": 17,
   "id": "d8817ee2",
   "metadata": {},
   "outputs": [],
   "source": [
    "dataset = pd.DataFrame({})\n",
    "dataset['reviews'] = reviews\n",
    "dataset['Price'] = price\n",
    "dataset['Brand'] = brand\n",
    "dataset['Ratings'] = rating"
   ]
  },
  {
   "cell_type": "code",
   "execution_count": 18,
   "id": "a57b743a",
   "metadata": {},
   "outputs": [
    {
     "data": {
      "text/html": [
       "<div>\n",
       "<style scoped>\n",
       "    .dataframe tbody tr th:only-of-type {\n",
       "        vertical-align: middle;\n",
       "    }\n",
       "\n",
       "    .dataframe tbody tr th {\n",
       "        vertical-align: top;\n",
       "    }\n",
       "\n",
       "    .dataframe thead th {\n",
       "        text-align: right;\n",
       "    }\n",
       "</style>\n",
       "<table border=\"1\" class=\"dataframe\">\n",
       "  <thead>\n",
       "    <tr style=\"text-align: right;\">\n",
       "      <th></th>\n",
       "      <th>reviews</th>\n",
       "      <th>Price</th>\n",
       "      <th>Brand</th>\n",
       "      <th>Ratings</th>\n",
       "    </tr>\n",
       "  </thead>\n",
       "  <tbody>\n",
       "    <tr>\n",
       "      <th>0</th>\n",
       "      <td>This is a detailed review after 7 days. Please...</td>\n",
       "      <td>₹16,999</td>\n",
       "      <td>80 cm (32)</td>\n",
       "      <td>5</td>\n",
       "    </tr>\n",
       "    <tr>\n",
       "      <th>1</th>\n",
       "      <td>PROs\\n1) great picture quality for this price....</td>\n",
       "      <td>₹29,999</td>\n",
       "      <td>LED</td>\n",
       "      <td>4</td>\n",
       "    </tr>\n",
       "    <tr>\n",
       "      <th>2</th>\n",
       "      <td>One of my friend recommended me this Mi LED TV...</td>\n",
       "      <td>₹24,999</td>\n",
       "      <td>100 cm (40)</td>\n",
       "      <td>5</td>\n",
       "    </tr>\n",
       "    <tr>\n",
       "      <th>3</th>\n",
       "      <td>Ertugrul Fans❤️💓\\nThis is most iconic Tv Is aw...</td>\n",
       "      <td>₹16,999</td>\n",
       "      <td>80 cm (32)</td>\n",
       "      <td>5</td>\n",
       "    </tr>\n",
       "    <tr>\n",
       "      <th>4</th>\n",
       "      <td>PROs\\n1) great picture quality for this price....</td>\n",
       "      <td>₹38,999</td>\n",
       "      <td>LED</td>\n",
       "      <td>4</td>\n",
       "    </tr>\n",
       "    <tr>\n",
       "      <th>...</th>\n",
       "      <td>...</td>\n",
       "      <td>...</td>\n",
       "      <td>...</td>\n",
       "      <td>...</td>\n",
       "    </tr>\n",
       "    <tr>\n",
       "      <th>715</th>\n",
       "      <td>Initially I am confused to choose between Sams...</td>\n",
       "      <td>₹33,227</td>\n",
       "      <td>108 cm (43)</td>\n",
       "      <td>4</td>\n",
       "    </tr>\n",
       "    <tr>\n",
       "      <th>716</th>\n",
       "      <td>i got this product on the second day after i o...</td>\n",
       "      <td>₹39,899</td>\n",
       "      <td>108 cm (43)</td>\n",
       "      <td>5</td>\n",
       "    </tr>\n",
       "    <tr>\n",
       "      <th>717</th>\n",
       "      <td>Nice tv on this price</td>\n",
       "      <td>₹15,841</td>\n",
       "      <td>80 cm (32)</td>\n",
       "      <td>4</td>\n",
       "    </tr>\n",
       "    <tr>\n",
       "      <th>718</th>\n",
       "      <td>I bought this tv for 30000rs.In this price ran...</td>\n",
       "      <td>₹30,999</td>\n",
       "      <td>107.9 cm (43)</td>\n",
       "      <td>4</td>\n",
       "    </tr>\n",
       "    <tr>\n",
       "      <th>719</th>\n",
       "      <td>This is an excellent choice if you're looking ...</td>\n",
       "      <td>₹35,000</td>\n",
       "      <td>LED</td>\n",
       "      <td>5</td>\n",
       "    </tr>\n",
       "  </tbody>\n",
       "</table>\n",
       "<p>720 rows × 4 columns</p>\n",
       "</div>"
      ],
      "text/plain": [
       "                                               reviews    Price  \\\n",
       "0    This is a detailed review after 7 days. Please...  ₹16,999   \n",
       "1    PROs\\n1) great picture quality for this price....  ₹29,999   \n",
       "2    One of my friend recommended me this Mi LED TV...  ₹24,999   \n",
       "3    Ertugrul Fans❤️💓\\nThis is most iconic Tv Is aw...  ₹16,999   \n",
       "4    PROs\\n1) great picture quality for this price....  ₹38,999   \n",
       "..                                                 ...      ...   \n",
       "715  Initially I am confused to choose between Sams...  ₹33,227   \n",
       "716  i got this product on the second day after i o...  ₹39,899   \n",
       "717                              Nice tv on this price  ₹15,841   \n",
       "718  I bought this tv for 30000rs.In this price ran...  ₹30,999   \n",
       "719  This is an excellent choice if you're looking ...  ₹35,000   \n",
       "\n",
       "             Brand Ratings  \n",
       "0       80 cm (32)       5  \n",
       "1              LED       4  \n",
       "2      100 cm (40)       5  \n",
       "3       80 cm (32)       5  \n",
       "4              LED       4  \n",
       "..             ...     ...  \n",
       "715    108 cm (43)       4  \n",
       "716    108 cm (43)       5  \n",
       "717     80 cm (32)       4  \n",
       "718  107.9 cm (43)       4  \n",
       "719            LED       5  \n",
       "\n",
       "[720 rows x 4 columns]"
      ]
     },
     "execution_count": 18,
     "metadata": {},
     "output_type": "execute_result"
    }
   ],
   "source": [
    "dataset"
   ]
  },
  {
   "cell_type": "code",
   "execution_count": 19,
   "id": "5f3ddb4c",
   "metadata": {},
   "outputs": [],
   "source": [
    "dataset.to_csv(r'C:\\Users\\dell\\Documents\\ratingcsv\\tv_flip.csv',index=False,header=True)"
   ]
  },
  {
   "cell_type": "code",
   "execution_count": 14,
   "id": "fb0c5d4c",
   "metadata": {},
   "outputs": [],
   "source": [
    "dataset.to_csv(r'C:\\Users\\dell\\Documents\\ratingcsv\\headphn_flip.csv',index=False,header=True)"
   ]
  },
  {
   "cell_type": "code",
   "execution_count": 5,
   "id": "dc42f91d",
   "metadata": {},
   "outputs": [],
   "source": [
    "search_bar = driver.find_element_by_xpath('//div[@class=\"_3OO5Xc\"]/input')\n",
    "search_bar.send_keys('printer')"
   ]
  },
  {
   "cell_type": "code",
   "execution_count": 6,
   "id": "e8429089",
   "metadata": {},
   "outputs": [],
   "source": [
    "srch = driver.find_element_by_xpath('//button[@class=\"L0Z3Pu\"]')\n",
    "srch.click()"
   ]
  },
  {
   "cell_type": "code",
   "execution_count": null,
   "id": "08450bff",
   "metadata": {},
   "outputs": [],
   "source": [
    "urls_printer = []\n",
    "start=0\n",
    "end=40\n",
    "for page in range(start,end):\n",
    "    try:\n",
    "        url=driver.find_elements_by_xpath('//a[@class=\"s1Q9rs\"]')     \n",
    "        for i in url:\n",
    "            urls_printer.append(i.get_attribute(\"href\"))\n",
    "    except:\n",
    "        break\n",
    "    try:\n",
    "        nxt_button=driver.find_element_by_xpath(\"//a[@class='_1LKTO3'][2]\")     \n",
    "        nxt_button.click()\n",
    "        time.sleep(2)\n",
    "    except:\n",
    "        nxt_button=driver.find_element_by_xpath(\"//a[@class='_1LKTO3'][1]\")     \n",
    "        nxt_button.click()\n",
    "        time.sleep(2)"
   ]
  },
  {
   "cell_type": "code",
   "execution_count": 12,
   "id": "d12f1054",
   "metadata": {},
   "outputs": [],
   "source": [
    "for i in urls_printer:\n",
    "    driver.get(i)\n",
    "    time.sleep(2)\n",
    "    try:\n",
    "        #p=driver.find_element_by_xpath('//div[@class=\"_2c2kV-\"]')\n",
    "        p=driver.find_element_by_xpath('//div[@class=\"t-ZTKy\"][1]')\n",
    "        reviews.append(p.text.replace('/n',''))\n",
    "    except NoSuchElementException:\n",
    "        reviews.append('-')\n",
    "    try:\n",
    "        p=driver.find_element_by_xpath('//div[@class=\"_25b18c\"]/div')\n",
    "        price.append(p.text.replace('/n',''))\n",
    "    except NoSuchElementException:\n",
    "        price.append('-')\n",
    "    try:\n",
    "        p=driver.find_element_by_xpath('//table[@class=\"_14cfVK\"]/tbody/tr[4]/td[2]')\n",
    "        brand.append(p.text.replace('/n',''))\n",
    "    except NoSuchElementException:\n",
    "        brand.append('-')\n",
    "    try:\n",
    "        p=driver.find_element_by_xpath('//div[@class=\"_3LWZlK _1BLPMq\"]')\n",
    "        rating.append(p.text.replace('/n',''))\n",
    "    except NoSuchElementException:\n",
    "        rating.append('-')"
   ]
  },
  {
   "cell_type": "code",
   "execution_count": 16,
   "id": "daa871b2",
   "metadata": {},
   "outputs": [],
   "source": [
    "dataset = pd.DataFrame({})\n",
    "dataset['reviews'] = reviews\n",
    "dataset['Price'] = price\n",
    "dataset['Brand'] = brand\n",
    "dataset['Ratings'] = rating"
   ]
  },
  {
   "cell_type": "code",
   "execution_count": 17,
   "id": "f213c1f2",
   "metadata": {},
   "outputs": [],
   "source": [
    "dataset.to_csv(r'C:\\Users\\dell\\Documents\\ratingcsv\\printer_flip.csv',index=False,header=True)"
   ]
  },
  {
   "cell_type": "code",
   "execution_count": 5,
   "id": "87c46427",
   "metadata": {},
   "outputs": [],
   "source": [
    "search_bar = driver.find_element_by_xpath('//div[@class=\"_3OO5Xc\"]/input')\n",
    "search_bar.send_keys('router')"
   ]
  },
  {
   "cell_type": "code",
   "execution_count": 6,
   "id": "83da00fe",
   "metadata": {},
   "outputs": [],
   "source": [
    "srch = driver.find_element_by_xpath('//button[@class=\"L0Z3Pu\"]')\n",
    "srch.click()"
   ]
  },
  {
   "cell_type": "code",
   "execution_count": 8,
   "id": "0f605c83",
   "metadata": {},
   "outputs": [],
   "source": [
    "urls_router = []\n",
    "start=0\n",
    "end=12\n",
    "for page in range(start,end):\n",
    "    try:\n",
    "        url=driver.find_elements_by_xpath('//a[@class=\"s1Q9rs\"]')     \n",
    "        for i in url:\n",
    "            urls_router.append(i.get_attribute(\"href\"))\n",
    "    except:\n",
    "        break\n",
    "    try:\n",
    "        nxt_button=driver.find_element_by_xpath(\"//a[@class='_1LKTO3'][2]\")     \n",
    "        nxt_button.click()\n",
    "        time.sleep(2)\n",
    "    except:\n",
    "        nxt_button=driver.find_element_by_xpath(\"//a[@class='_1LKTO3'][1]\")     \n",
    "        nxt_button.click()\n",
    "        time.sleep(2)"
   ]
  },
  {
   "cell_type": "code",
   "execution_count": 11,
   "id": "3cd4900d",
   "metadata": {},
   "outputs": [],
   "source": [
    "for i in urls_router:\n",
    "    driver.get(i)\n",
    "    time.sleep(2)\n",
    "    try:\n",
    "        #p=driver.find_element_by_xpath('//div[@class=\"_2c2kV-\"]')\n",
    "        p=driver.find_element_by_xpath('//div[@class=\"t-ZTKy\"][1]')\n",
    "        reviews.append(p.text.replace('/n',''))\n",
    "    except NoSuchElementException:\n",
    "        reviews.append('-')\n",
    "    try:\n",
    "        p=driver.find_element_by_xpath('//div[@class=\"_25b18c\"]/div')\n",
    "        price.append(p.text.replace('/n',''))\n",
    "    except NoSuchElementException:\n",
    "        price.append('-')\n",
    "    try:\n",
    "        p=driver.find_element_by_xpath('//table[@class=\"_14cfVK\"]/tbody/tr[4]/td[2]')\n",
    "        brand.append(p.text.replace('/n',''))\n",
    "    except NoSuchElementException:\n",
    "        brand.append('-')\n",
    "    try:\n",
    "        p=driver.find_element_by_xpath('//div[@class=\"_3LWZlK _1BLPMq\"]')\n",
    "        rating.append(p.text.replace('/n',''))\n",
    "    except NoSuchElementException:\n",
    "        rating.append('-')"
   ]
  },
  {
   "cell_type": "code",
   "execution_count": 12,
   "id": "750239bc",
   "metadata": {},
   "outputs": [],
   "source": [
    "dataset = pd.DataFrame({})\n",
    "dataset['reviews'] = reviews\n",
    "dataset['Price'] = price\n",
    "dataset['Brand'] = brand\n",
    "dataset['Ratings'] = rating"
   ]
  },
  {
   "cell_type": "code",
   "execution_count": 13,
   "id": "4efe9d7d",
   "metadata": {},
   "outputs": [],
   "source": [
    "dataset.to_csv(r'C:\\Users\\dell\\Documents\\ratingcsv\\router_flip.csv',index=False,header=True)"
   ]
  },
  {
   "cell_type": "code",
   "execution_count": 5,
   "id": "53a0f29e",
   "metadata": {},
   "outputs": [],
   "source": [
    "search_bar = driver.find_element_by_xpath('//div[@class=\"_3OO5Xc\"]/input')\n",
    "search_bar.send_keys('monitor')"
   ]
  },
  {
   "cell_type": "code",
   "execution_count": 6,
   "id": "2bcf06d4",
   "metadata": {},
   "outputs": [],
   "source": [
    "srch = driver.find_element_by_xpath('//button[@class=\"L0Z3Pu\"]')\n",
    "srch.click()"
   ]
  },
  {
   "cell_type": "code",
   "execution_count": 7,
   "id": "16d7d64a",
   "metadata": {},
   "outputs": [],
   "source": [
    "urls_monitor = []\n",
    "start=0\n",
    "end=12\n",
    "for page in range(start,end):\n",
    "    try:\n",
    "        url=driver.find_elements_by_xpath('//a[@class=\"_1fQZEK\"]')     \n",
    "        for i in url:\n",
    "            urls_monitor.append(i.get_attribute(\"href\"))\n",
    "    except:\n",
    "        break\n",
    "    try:\n",
    "        nxt_button=driver.find_element_by_xpath(\"//a[@class='_1LKTO3'][2]\")     \n",
    "        nxt_button.click()\n",
    "        time.sleep(2)\n",
    "    except:\n",
    "        nxt_button=driver.find_element_by_xpath(\"//a[@class='_1LKTO3'][1]\")     \n",
    "        nxt_button.click()\n",
    "        time.sleep(2)"
   ]
  },
  {
   "cell_type": "code",
   "execution_count": 16,
   "id": "d87b9aeb",
   "metadata": {},
   "outputs": [],
   "source": [
    "for i in urlsn:\n",
    "    driver.get(i)\n",
    "    time.sleep(2)\n",
    "    try:\n",
    "        #p=driver.find_element_by_xpath('//div[@class=\"_2c2kV-\"]')\n",
    "        p=driver.find_element_by_xpath('//div[@class=\"t-ZTKy\"][1]')\n",
    "        reviews.append(p.text.replace('/n',''))\n",
    "    except NoSuchElementException:\n",
    "        reviews.append('-')\n",
    "    try:\n",
    "        p=driver.find_element_by_xpath('//div[@class=\"_25b18c\"]/div')\n",
    "        price.append(p.text.replace('/n',''))\n",
    "    except NoSuchElementException:\n",
    "        price.append('-')\n",
    "    try:\n",
    "        p=driver.find_element_by_xpath('//table[@class=\"_14cfVK\"]/tbody/tr[4]/td[2]')\n",
    "        brand.append(p.text.replace('/n',''))\n",
    "    except NoSuchElementException:\n",
    "        brand.append('-')\n",
    "    try:\n",
    "        p=driver.find_element_by_xpath('//div[@class=\"_3LWZlK _1BLPMq\"]')\n",
    "        rating.append(p.text.replace('/n',''))\n",
    "    except NoSuchElementException:\n",
    "        rating.append('-')"
   ]
  },
  {
   "cell_type": "code",
   "execution_count": 19,
   "id": "5e7bdd2d",
   "metadata": {},
   "outputs": [],
   "source": [
    "df = pd.DataFrame({})\n",
    "df['reviews'] = reviews\n",
    "df['Price'] = price\n",
    "df['Brand'] = brand\n",
    "df['Ratings'] = rating"
   ]
  },
  {
   "cell_type": "code",
   "execution_count": 22,
   "id": "b29bc629",
   "metadata": {},
   "outputs": [],
   "source": [
    "df.to_csv(r'C:\\Users\\dell\\Documents\\ratingcsv\\monitor_flip.csv',index=False,header=True)"
   ]
  },
  {
   "cell_type": "code",
   "execution_count": 19,
   "id": "b84f5e2a",
   "metadata": {},
   "outputs": [],
   "source": [
    "search_bar = driver.find_element_by_xpath('//div[@class=\"_3OO5Xc\"]/input')\n",
    "search_bar.send_keys('Home theatre')"
   ]
  },
  {
   "cell_type": "code",
   "execution_count": 20,
   "id": "c6a2aefc",
   "metadata": {},
   "outputs": [],
   "source": [
    "srch = driver.find_element_by_xpath('//button[@class=\"L0Z3Pu\"]')\n",
    "srch.click()"
   ]
  },
  {
   "cell_type": "code",
   "execution_count": 21,
   "id": "c458a993",
   "metadata": {},
   "outputs": [],
   "source": [
    "urls_ht = []\n",
    "start=0\n",
    "end=25\n",
    "for page in range(start,end):\n",
    "    try:\n",
    "        url=driver.find_elements_by_xpath('//a[@class=\"s1Q9rs\"]')     \n",
    "        for i in url:\n",
    "            urls_ht.append(i.get_attribute(\"href\"))\n",
    "    except:\n",
    "        break\n",
    "    try:\n",
    "        if(page==0):\n",
    "            nxt_button=driver.find_element_by_xpath(\"//a[@class='_1LKTO3'][1]\")     \n",
    "            nxt_button.click()\n",
    "            time.sleep(2)\n",
    "        else:\n",
    "            nxt_button=driver.find_element_by_xpath(\"//a[@class='_1LKTO3'][2]\")     \n",
    "            nxt_button.click()\n",
    "            time.sleep(2)\n",
    "    except:\n",
    "        break"
   ]
  },
  {
   "cell_type": "code",
   "execution_count": 29,
   "id": "68035648",
   "metadata": {},
   "outputs": [],
   "source": [
    "urln = urls_ht[5:]"
   ]
  },
  {
   "cell_type": "code",
   "execution_count": 31,
   "id": "c46fd3fa",
   "metadata": {},
   "outputs": [],
   "source": [
    "for i in urln:\n",
    "    driver.get(i)\n",
    "    time.sleep(2)\n",
    "    try:\n",
    "        #p=driver.find_element_by_xpath('//div[@class=\"_2c2kV-\"]')\n",
    "        p=driver.find_element_by_xpath('//div[@class=\"t-ZTKy\"][1]')\n",
    "        reviews.append(p.text.replace('/n',''))\n",
    "    except NoSuchElementException:\n",
    "        reviews.append('-')\n",
    "    try:\n",
    "        p=driver.find_element_by_xpath('//div[@class=\"_25b18c\"]/div')\n",
    "        price.append(p.text.replace('/n',''))\n",
    "    except NoSuchElementException:\n",
    "        price.append('-')\n",
    "    try:\n",
    "        p=driver.find_element_by_xpath('//table[@class=\"_14cfVK\"]/tbody/tr[4]/td[2]')\n",
    "        brand.append(p.text.replace('/n',''))\n",
    "    except NoSuchElementException:\n",
    "        brand.append('-')\n",
    "    try:\n",
    "        p=driver.find_element_by_xpath('//div[@class=\"_3LWZlK _1BLPMq\"]')\n",
    "        rating.append(p.text.replace('/n',''))\n",
    "    except NoSuchElementException:\n",
    "        rating.append('-')"
   ]
  },
  {
   "cell_type": "code",
   "execution_count": 35,
   "id": "daaa0477",
   "metadata": {},
   "outputs": [],
   "source": [
    "df = pd.DataFrame({})\n",
    "df['reviews'] = reviews\n",
    "df['Price'] = price\n",
    "df['Brand'] = brand\n",
    "df['Ratings'] = rating"
   ]
  },
  {
   "cell_type": "code",
   "execution_count": 36,
   "id": "4777b916",
   "metadata": {},
   "outputs": [],
   "source": [
    "df.to_csv(r'C:\\Users\\dell\\Documents\\ratingcsv\\ht_flip.csv',index=False,header=True)"
   ]
  },
  {
   "cell_type": "markdown",
   "id": "5b98c596",
   "metadata": {},
   "source": [
    "# digit"
   ]
  },
  {
   "cell_type": "code",
   "execution_count": 4,
   "id": "19cd62cb",
   "metadata": {},
   "outputs": [],
   "source": [
    "driver.get('https://www.digit.in/')"
   ]
  },
  {
   "cell_type": "code",
   "execution_count": 5,
   "id": "2f229e46",
   "metadata": {},
   "outputs": [],
   "source": [
    "search_bar = driver.find_element_by_xpath('//input[@class=\"desktop-searchBar\"]')\n",
    "search_bar.send_keys('laptop')"
   ]
  },
  {
   "cell_type": "code",
   "execution_count": 17,
   "id": "815f0d03",
   "metadata": {},
   "outputs": [],
   "source": [
    "p = driver.find_element_by_xpath('//div[@class=\"User-review-list\"]/ul/li/p')\n",
    "revie.append(p.text.replace('/n',''))"
   ]
  },
  {
   "cell_type": "code",
   "execution_count": 19,
   "id": "d716dc4b",
   "metadata": {},
   "outputs": [],
   "source": [
    "rating = []\n",
    "r = driver.find_element_by_xpath('//div[@class=\"Rating-Review\"]/ul/li/span')\n",
    "rating.append(r.text.replace('/n',''))"
   ]
  },
  {
   "cell_type": "code",
   "execution_count": 20,
   "id": "136e9239",
   "metadata": {},
   "outputs": [
    {
     "data": {
      "text/plain": [
       "['5 Star']"
      ]
     },
     "execution_count": 20,
     "metadata": {},
     "output_type": "execute_result"
    }
   ],
   "source": [
    "rating"
   ]
  },
  {
   "cell_type": "code",
   "execution_count": 29,
   "id": "d7451b30",
   "metadata": {},
   "outputs": [],
   "source": [
    "urls_lap = []\n",
    "start=0\n",
    "end=30\n",
    "for page in range(start,end):\n",
    "    url=driver.find_elements_by_xpath('//div[@class=\"head-line\"]/a')     \n",
    "    for i in url:\n",
    "        urls_lap.append(i.get_attribute(\"href\"))                        \n",
    "    try:\n",
    "        nxt_button=driver.find_element_by_xpath(\"//ul[@class='pagination']/li[7]/a\")     \n",
    "        nxt_button.click()\n",
    "        time.sleep(2)\n",
    "    except:\n",
    "        nxt_button=driver.find_element_by_xpath(\"//ul[@class='pagination']/li[6]/a\")     \n",
    "        nxt_button.click()\n",
    "        time.sleep(2)"
   ]
  },
  {
   "cell_type": "code",
   "execution_count": 39,
   "id": "647ad311",
   "metadata": {},
   "outputs": [],
   "source": [
    "urls = urls_lap[5:]"
   ]
  },
  {
   "cell_type": "code",
   "execution_count": 41,
   "id": "7b8052de",
   "metadata": {},
   "outputs": [],
   "source": [
    "for i in urls:\n",
    "    driver.get(i)\n",
    "    time.sleep(2)\n",
    "    try:\n",
    "        #p=driver.find_element_by_xpath('//div[@class=\"_2c2kV-\"]')\n",
    "        p=driver.find_element_by_xpath('//div[@class=\"User-review-list\"]/ul/li/p')\n",
    "        reviews.append(p.text.replace('/n',''))\n",
    "    except NoSuchElementException:\n",
    "        reviews.append('-')\n",
    "    try:\n",
    "        p=driver.find_element_by_xpath('//div[@class=\"col-sm-8 only-desktop\"]/div[4]/div/b')\n",
    "        price.append(p.text.replace('/n',''))\n",
    "    except NoSuchElementException:\n",
    "        price.append('-')\n",
    "    try:\n",
    "        p=driver.find_element_by_xpath('//div[@class=\"status-bar only-desktop\"]/div[3]/b/a')\n",
    "        brand.append(p.text.replace('/n',''))\n",
    "    except NoSuchElementException:\n",
    "        brand.append('-')\n",
    "    try:\n",
    "        p=driver.find_element_by_xpath('//div[@class=\"Rating-Review\"]/ul/li/span')\n",
    "        rating.append(p.text.replace('/n',''))\n",
    "    except NoSuchElementException:\n",
    "        rating.append('-')"
   ]
  },
  {
   "cell_type": "code",
   "execution_count": 40,
   "id": "272591ee",
   "metadata": {},
   "outputs": [
    {
     "data": {
      "text/plain": [
       "295"
      ]
     },
     "execution_count": 40,
     "metadata": {},
     "output_type": "execute_result"
    }
   ],
   "source": [
    "len(urls)"
   ]
  },
  {
   "cell_type": "code",
   "execution_count": 42,
   "id": "be349b52",
   "metadata": {},
   "outputs": [],
   "source": [
    "dataset = pd.DataFrame({})\n",
    "dataset['reviews'] = reviews\n",
    "dataset['Price'] = price\n",
    "dataset['Brand'] = brand\n",
    "dataset['Ratings'] = rating"
   ]
  },
  {
   "cell_type": "code",
   "execution_count": 43,
   "id": "def1e27a",
   "metadata": {},
   "outputs": [],
   "source": [
    "dataset.to_csv(r'C:\\Users\\dell\\Documents\\ratingcsv\\.csv',index=False,header=True)"
   ]
  },
  {
   "cell_type": "code",
   "execution_count": 46,
   "id": "bb526b66",
   "metadata": {},
   "outputs": [],
   "source": [
    "urls_laptop = []\n",
    "start=0\n",
    "end=50\n",
    "for page in range(start,end):\n",
    "    url=driver.find_elements_by_xpath('//div[@class=\"product-description-tv\"]/a')     \n",
    "    for i in url:\n",
    "        urls_laptop.append(i.get_attribute(\"href\"))                        \n",
    "    try:\n",
    "        nxt_button=driver.find_element_by_xpath(\"//ul[@class='pagination']/li[7]/a\")     \n",
    "        nxt_button.click()\n",
    "        time.sleep(2)\n",
    "    except:\n",
    "        nxt_button=driver.find_element_by_xpath(\"//ul[@class='pagination']/li[6]/a\")     \n",
    "        nxt_button.click()\n",
    "        time.sleep(2)"
   ]
  },
  {
   "cell_type": "code",
   "execution_count": 58,
   "id": "9e8650c3",
   "metadata": {},
   "outputs": [],
   "source": [
    "urls_lapi  = urls_laptop[4:]"
   ]
  },
  {
   "cell_type": "code",
   "execution_count": 8,
   "id": "cc2e8720",
   "metadata": {},
   "outputs": [],
   "source": [
    "rev= []\n",
    "ratings = []\n",
    "brands = []\n",
    "prices=[]"
   ]
  },
  {
   "cell_type": "code",
   "execution_count": 59,
   "id": "1e64aafb",
   "metadata": {},
   "outputs": [],
   "source": [
    "\n",
    "for i in urls_lapi:\n",
    "    driver.get(i)\n",
    "    time.sleep(2)\n",
    "    try:\n",
    "        #p=driver.find_element_by_xpath('//div[@class=\"_2c2kV-\"]')\n",
    "        p=driver.find_element_by_xpath('//div[@class=\"User-review-list\"]/ul/li/p')\n",
    "        rev.append(p.text.replace('/n',''))\n",
    "    except NoSuchElementException:\n",
    "        rev.append('-')\n",
    "    try:\n",
    "        p=driver.find_element_by_xpath('//div[@class=\"col-sm-8 only-desktop\"]/div[4]/div/b')\n",
    "        prices.append(p.text.replace('/n',''))\n",
    "    except NoSuchElementException:\n",
    "        prices.append('-')\n",
    "    try:\n",
    "        p=driver.find_element_by_xpath('//div[@class=\"status-bar only-desktop\"]/div[3]/b/a')\n",
    "        brands.append(p.text.replace('/n',''))\n",
    "    except NoSuchElementException:\n",
    "        brands.append('-')\n",
    "    try:\n",
    "        p=driver.find_element_by_xpath('//div[@class=\"Rating-Review\"]/ul/li/span')\n",
    "        ratings.append(p.text.replace('/n',''))\n",
    "    except NoSuchElementException:\n",
    "        ratings.append('-')"
   ]
  },
  {
   "cell_type": "code",
   "execution_count": 15,
   "id": "d47d7d12",
   "metadata": {},
   "outputs": [],
   "source": [
    "dt = pd.DataFrame({})\n",
    "dt['reviews'] = rev\n",
    "dt['Price'] = prices\n",
    "dt['Brand'] = brands\n",
    "dt['Ratings'] = ratings"
   ]
  },
  {
   "cell_type": "code",
   "execution_count": 63,
   "id": "02290e98",
   "metadata": {},
   "outputs": [],
   "source": [
    "dt.to_csv(r'C:\\Users\\dell\\Documents\\ratingcsv\\lap_digit.csv',index=False,header=True)"
   ]
  },
  {
   "cell_type": "code",
   "execution_count": 6,
   "id": "b26b1f69",
   "metadata": {},
   "outputs": [],
   "source": [
    "urls_watch = []\n",
    "start=0\n",
    "end=30\n",
    "for page in range(start,end):\n",
    "    url=driver.find_elements_by_xpath('//div[@class=\"searchPage\"]/a')     \n",
    "    for i in url:\n",
    "        urls_watch.append(i.get_attribute(\"href\"))                        \n",
    "    try:\n",
    "        nxt_button=driver.find_element_by_xpath(\"//div[@class='Paginations']/nav/ul/li[3]/a\")     \n",
    "        nxt_button.click()\n",
    "        time.sleep(2)\n",
    "    except:\n",
    "        nxt_button=driver.find_element_by_xpath(\"//ul[@class='pagination']/li[6]/a\")     \n",
    "        nxt_button.click()\n",
    "        time.sleep(2)"
   ]
  },
  {
   "cell_type": "code",
   "execution_count": 13,
   "id": "9c1c200f",
   "metadata": {},
   "outputs": [],
   "source": [
    "url = urls_watch[3:]"
   ]
  },
  {
   "cell_type": "markdown",
   "id": "b3312857",
   "metadata": {},
   "source": [
    "# snapdeal"
   ]
  },
  {
   "cell_type": "code",
   "execution_count": 10,
   "id": "28851e8d",
   "metadata": {},
   "outputs": [],
   "source": [
    "driver.get(\"https://www.snapdeal.com/products/women-apparel-tops-tunics?utm_term=531339935656_122987318343_%7Bbidstrategy%7D&gclid=CjwKCAjwpMOIBhBAEiwAy5M6YEx2kVzUIeBJ6Z_1wKO46cZENZSYLCWQZQMTILKHyZH-OH09ub8kuxoCtysQAvD_BwE&sort=plrty&utm_campaign=womens_fashion_womens_fashion_cpt_1d_ftu&utm_source=earth_semnonbrand&utm_medium=best%20prices\")"
   ]
  },
  {
   "cell_type": "code",
   "execution_count": 4,
   "id": "7c906e83",
   "metadata": {},
   "outputs": [],
   "source": [
    "driver.get('https://www.digit.in/')"
   ]
  },
  {
   "cell_type": "code",
   "execution_count": 14,
   "id": "49c6d995",
   "metadata": {},
   "outputs": [],
   "source": [
    "for i in url:\n",
    "    driver.get(i)\n",
    "    time.sleep(2)\n",
    "    try:\n",
    "        #p=driver.find_element_by_xpath('//div[@class=\"_2c2kV-\"]')\n",
    "        p=driver.find_element_by_xpath('//div[@class=\"User-review-list\"]/ul/li/p')\n",
    "        rev.append(p.text.replace('/n',''))\n",
    "    except NoSuchElementException:\n",
    "        rev.append('-')\n",
    "    try:\n",
    "        p=driver.find_element_by_xpath('//div[@class=\"col-sm-8 only-desktop\"]/div[4]/div/b')\n",
    "        prices.append(p.text.replace('/n',''))\n",
    "    except NoSuchElementException:\n",
    "        prices.append('-')\n",
    "    try:\n",
    "        p=driver.find_element_by_xpath('//div[@class=\"status-bar only-desktop\"]/div[3]/b/a')\n",
    "        brands.append(p.text.replace('/n',''))\n",
    "    except NoSuchElementException:\n",
    "        brands.append('-')\n",
    "    try:\n",
    "        p=driver.find_element_by_xpath('//div[@class=\"Rating-Review\"]/ul/li/span')\n",
    "        ratings.append(p.text.replace('/n',''))\n",
    "    except NoSuchElementException:\n",
    "        ratings.append('-')"
   ]
  },
  {
   "cell_type": "code",
   "execution_count": 17,
   "id": "a28ea961",
   "metadata": {},
   "outputs": [],
   "source": [
    "dt.to_csv(r'C:\\Users\\dell\\Documents\\ratingcsv\\watch_digit.csv',index=False,header=True)"
   ]
  },
  {
   "cell_type": "code",
   "execution_count": 5,
   "id": "0e4aa145",
   "metadata": {},
   "outputs": [],
   "source": [
    "urls_ht= []\n",
    "start=0\n",
    "end=50\n",
    "for page in range(start,end):\n",
    "    url=driver.find_elements_by_xpath('//div[@class=\"searchPage\"]/a')     \n",
    "    for i in url:\n",
    "        urls_ht.append(i.get_attribute(\"href\"))                        \n",
    "    try:\n",
    "        nxt_button=driver.find_element_by_xpath(\"//div[@class='Paginations']/nav/ul/li[3]/a\")     \n",
    "        nxt_button.click()\n",
    "        time.sleep(2)\n",
    "    except:\n",
    "        nxt_button=driver.find_element_by_xpath(\"//ul[@class='pagination']/li[6]/a\")     \n",
    "        nxt_button.click()\n",
    "        time.sleep(2)"
   ]
  },
  {
   "cell_type": "code",
   "execution_count": 11,
   "id": "ed7bc496",
   "metadata": {},
   "outputs": [],
   "source": [
    "url = urls_ht[4:]"
   ]
  },
  {
   "cell_type": "code",
   "execution_count": 12,
   "id": "c2672938",
   "metadata": {},
   "outputs": [],
   "source": [
    "for i in url:\n",
    "    driver.get(i)\n",
    "    time.sleep(2)\n",
    "    try:\n",
    "        #p=driver.find_element_by_xpath('//div[@class=\"_2c2kV-\"]')\n",
    "        p=driver.find_element_by_xpath('//div[@class=\"User-review-list\"]/ul/li/p')\n",
    "        rev.append(p.text.replace('/n',''))\n",
    "    except NoSuchElementException:\n",
    "        rev.append('-')\n",
    "    try:\n",
    "        p=driver.find_element_by_xpath('//div[@class=\"col-sm-8 only-desktop\"]/div[4]/div/b')\n",
    "        prices.append(p.text.replace('/n',''))\n",
    "    except NoSuchElementException:\n",
    "        prices.append('-')\n",
    "    try:\n",
    "        p=driver.find_element_by_xpath('//div[@class=\"status-bar only-desktop\"]/div[3]/b/a')\n",
    "        brands.append(p.text.replace('/n',''))\n",
    "    except NoSuchElementException:\n",
    "        brands.append('-')\n",
    "    try:\n",
    "        p=driver.find_element_by_xpath('//div[@class=\"Rating-Review\"]/ul/li/span')\n",
    "        ratings.append(p.text.replace('/n',''))\n",
    "    except NoSuchElementException:\n",
    "        ratings.append('-')"
   ]
  },
  {
   "cell_type": "code",
   "execution_count": 16,
   "id": "7b064119",
   "metadata": {
    "scrolled": true
   },
   "outputs": [],
   "source": [
    "dt.to_csv(r'C:\\Users\\dell\\Documents\\ratingcsv\\ht_digit.csv',index=False,header=True)"
   ]
  },
  {
   "cell_type": "code",
   "execution_count": 26,
   "id": "bbff0987",
   "metadata": {},
   "outputs": [],
   "source": [
    "dt = pd.read_csv('hdnew_snapdeal.csv')"
   ]
  },
  {
   "cell_type": "code",
   "execution_count": 35,
   "id": "8744581d",
   "metadata": {},
   "outputs": [],
   "source": [
    "dt5 = pd.read_csv('watch_digit.csv')"
   ]
  },
  {
   "cell_type": "code",
   "execution_count": 40,
   "id": "76a1847b",
   "metadata": {},
   "outputs": [],
   "source": [
    "dt = dt.append(dt8)"
   ]
  },
  {
   "cell_type": "code",
   "execution_count": 39,
   "id": "c91db5bd",
   "metadata": {},
   "outputs": [],
   "source": [
    "dt8 =  pd.read_csv('phn_paytm.csv')"
   ]
  },
  {
   "cell_type": "code",
   "execution_count": 21,
   "id": "0be01a8c",
   "metadata": {},
   "outputs": [],
   "source": [
    "dt = dt.append(dt9)"
   ]
  },
  {
   "cell_type": "code",
   "execution_count": 20,
   "id": "88d54887",
   "metadata": {},
   "outputs": [],
   "source": [
    "dt9 = pd.read_csv('phn_paytm.csv')"
   ]
  },
  {
   "cell_type": "code",
   "execution_count": 25,
   "id": "db99264b",
   "metadata": {},
   "outputs": [
    {
     "data": {
      "text/html": [
       "<div>\n",
       "<style scoped>\n",
       "    .dataframe tbody tr th:only-of-type {\n",
       "        vertical-align: middle;\n",
       "    }\n",
       "\n",
       "    .dataframe tbody tr th {\n",
       "        vertical-align: top;\n",
       "    }\n",
       "\n",
       "    .dataframe thead th {\n",
       "        text-align: right;\n",
       "    }\n",
       "</style>\n",
       "<table border=\"1\" class=\"dataframe\">\n",
       "  <thead>\n",
       "    <tr style=\"text-align: right;\">\n",
       "      <th></th>\n",
       "      <th>reviews</th>\n",
       "      <th>Price</th>\n",
       "      <th>Brand</th>\n",
       "      <th>Ratings</th>\n",
       "    </tr>\n",
       "  </thead>\n",
       "  <tbody>\n",
       "    <tr>\n",
       "      <th>0</th>\n",
       "      <td>Boss of all Bluetooth speaker..boommmmmm box.\\...</td>\n",
       "      <td>₹19,999</td>\n",
       "      <td>Home Theatre</td>\n",
       "      <td>5</td>\n",
       "    </tr>\n",
       "    <tr>\n",
       "      <th>1</th>\n",
       "      <td>Amazing speaker with superb bass\\nIt comes wit...</td>\n",
       "      <td>₹6,499</td>\n",
       "      <td>Yes</td>\n",
       "      <td>5</td>\n",
       "    </tr>\n",
       "    <tr>\n",
       "      <th>2</th>\n",
       "      <td>Excellent product in budget .i m loving it.i p...</td>\n",
       "      <td>₹1,999</td>\n",
       "      <td>Home Theatre</td>\n",
       "      <td>5</td>\n",
       "    </tr>\n",
       "    <tr>\n",
       "      <th>3</th>\n",
       "      <td>Sound quality is good and loud , but you can't...</td>\n",
       "      <td>₹2,799</td>\n",
       "      <td>Home Theatre</td>\n",
       "      <td>5</td>\n",
       "    </tr>\n",
       "    <tr>\n",
       "      <th>4</th>\n",
       "      <td>the best product in low price osm the sound qu...</td>\n",
       "      <td>₹2,499</td>\n",
       "      <td>No</td>\n",
       "      <td>5</td>\n",
       "    </tr>\n",
       "    <tr>\n",
       "      <th>...</th>\n",
       "      <td>...</td>\n",
       "      <td>...</td>\n",
       "      <td>...</td>\n",
       "      <td>...</td>\n",
       "    </tr>\n",
       "    <tr>\n",
       "      <th>5972</th>\n",
       "      <td>Low quality</td>\n",
       "      <td>₹849</td>\n",
       "      <td>Rectangle</td>\n",
       "      <td>-</td>\n",
       "    </tr>\n",
       "    <tr>\n",
       "      <th>5973</th>\n",
       "      <td>Good product</td>\n",
       "      <td>₹929</td>\n",
       "      <td>Square</td>\n",
       "      <td>NaN</td>\n",
       "    </tr>\n",
       "    <tr>\n",
       "      <th>5974</th>\n",
       "      <td>Accurate delivery, thanks for flipkart.Nice wa...</td>\n",
       "      <td>₹699</td>\n",
       "      <td>Square</td>\n",
       "      <td>4</td>\n",
       "    </tr>\n",
       "    <tr>\n",
       "      <th>5975</th>\n",
       "      <td>This was very nice watch but they do not have ...</td>\n",
       "      <td>₹1,599</td>\n",
       "      <td>Square</td>\n",
       "      <td>4</td>\n",
       "    </tr>\n",
       "    <tr>\n",
       "      <th>5976</th>\n",
       "      <td>Good</td>\n",
       "      <td>₹849</td>\n",
       "      <td>Multicolor</td>\n",
       "      <td>5</td>\n",
       "    </tr>\n",
       "  </tbody>\n",
       "</table>\n",
       "<p>5977 rows × 4 columns</p>\n",
       "</div>"
      ],
      "text/plain": [
       "                                                reviews    Price  \\\n",
       "0     Boss of all Bluetooth speaker..boommmmmm box.\\...  ₹19,999   \n",
       "1     Amazing speaker with superb bass\\nIt comes wit...   ₹6,499   \n",
       "2     Excellent product in budget .i m loving it.i p...   ₹1,999   \n",
       "3     Sound quality is good and loud , but you can't...   ₹2,799   \n",
       "4     the best product in low price osm the sound qu...   ₹2,499   \n",
       "...                                                 ...      ...   \n",
       "5972                                        Low quality     ₹849   \n",
       "5973                                       Good product     ₹929   \n",
       "5974  Accurate delivery, thanks for flipkart.Nice wa...     ₹699   \n",
       "5975  This was very nice watch but they do not have ...   ₹1,599   \n",
       "5976                                               Good     ₹849   \n",
       "\n",
       "             Brand Ratings  \n",
       "0     Home Theatre       5  \n",
       "1              Yes       5  \n",
       "2     Home Theatre       5  \n",
       "3     Home Theatre       5  \n",
       "4               No       5  \n",
       "...            ...     ...  \n",
       "5972     Rectangle       -  \n",
       "5973        Square     NaN  \n",
       "5974        Square       4  \n",
       "5975        Square       4  \n",
       "5976    Multicolor       5  \n",
       "\n",
       "[5977 rows x 4 columns]"
      ]
     },
     "execution_count": 25,
     "metadata": {},
     "output_type": "execute_result"
    }
   ],
   "source": [
    "dt"
   ]
  },
  {
   "cell_type": "code",
   "execution_count": 42,
   "id": "c955f1b1",
   "metadata": {},
   "outputs": [],
   "source": [
    "df = df.append(dt)"
   ]
  },
  {
   "cell_type": "code",
   "execution_count": 45,
   "id": "2890e479",
   "metadata": {},
   "outputs": [],
   "source": [
    "df_a = pd.read_csv('amazon_df.csv')"
   ]
  },
  {
   "cell_type": "code",
   "execution_count": 46,
   "id": "fe13127b",
   "metadata": {},
   "outputs": [],
   "source": [
    "df = df.append(df_a)"
   ]
  },
  {
   "cell_type": "code",
   "execution_count": 47,
   "id": "47c1195a",
   "metadata": {},
   "outputs": [
    {
     "data": {
      "text/html": [
       "<div>\n",
       "<style scoped>\n",
       "    .dataframe tbody tr th:only-of-type {\n",
       "        vertical-align: middle;\n",
       "    }\n",
       "\n",
       "    .dataframe tbody tr th {\n",
       "        vertical-align: top;\n",
       "    }\n",
       "\n",
       "    .dataframe thead th {\n",
       "        text-align: right;\n",
       "    }\n",
       "</style>\n",
       "<table border=\"1\" class=\"dataframe\">\n",
       "  <thead>\n",
       "    <tr style=\"text-align: right;\">\n",
       "      <th></th>\n",
       "      <th>reviews</th>\n",
       "      <th>Price</th>\n",
       "      <th>Brand</th>\n",
       "      <th>Ratings</th>\n",
       "    </tr>\n",
       "  </thead>\n",
       "  <tbody>\n",
       "    <tr>\n",
       "      <th>0</th>\n",
       "      <td>[boss, of, all, bluetooth, speakerboommmmmm, b...</td>\n",
       "      <td>₹19,999</td>\n",
       "      <td>Home Theatre</td>\n",
       "      <td>5</td>\n",
       "    </tr>\n",
       "    <tr>\n",
       "      <th>1</th>\n",
       "      <td>[amazing, speaker, with, superb, bass, it, com...</td>\n",
       "      <td>₹6,499</td>\n",
       "      <td>Yes</td>\n",
       "      <td>5</td>\n",
       "    </tr>\n",
       "    <tr>\n",
       "      <th>2</th>\n",
       "      <td>[excellent, product, in, budget, i, m, loving,...</td>\n",
       "      <td>₹1,999</td>\n",
       "      <td>Home Theatre</td>\n",
       "      <td>5</td>\n",
       "    </tr>\n",
       "    <tr>\n",
       "      <th>3</th>\n",
       "      <td>[sound, quality, is, good, and, loud, but, you...</td>\n",
       "      <td>₹2,799</td>\n",
       "      <td>Home Theatre</td>\n",
       "      <td>5</td>\n",
       "    </tr>\n",
       "    <tr>\n",
       "      <th>4</th>\n",
       "      <td>[the, best, product, in, low, price, osm, the,...</td>\n",
       "      <td>₹2,499</td>\n",
       "      <td>No</td>\n",
       "      <td>5</td>\n",
       "    </tr>\n",
       "    <tr>\n",
       "      <th>...</th>\n",
       "      <td>...</td>\n",
       "      <td>...</td>\n",
       "      <td>...</td>\n",
       "      <td>...</td>\n",
       "    </tr>\n",
       "    <tr>\n",
       "      <th>4354</th>\n",
       "      <td>esha\\nRough, Tasteless and Can't compare it to...</td>\n",
       "      <td>-</td>\n",
       "      <td>1200 Grams</td>\n",
       "      <td>4.3 out of 5</td>\n",
       "    </tr>\n",
       "    <tr>\n",
       "      <th>4355</th>\n",
       "      <td>Anurag Vyawahare\\nGreat deal\\nReviewed in Indi...</td>\n",
       "      <td>₹599.00</td>\n",
       "      <td>-</td>\n",
       "      <td>4.1 out of 5</td>\n",
       "    </tr>\n",
       "    <tr>\n",
       "      <th>4356</th>\n",
       "      <td>Md Serajul Arfin\\nOk\\nReviewed in India on 30 ...</td>\n",
       "      <td>₹1,899.00</td>\n",
       "      <td>-</td>\n",
       "      <td>3.4 out of 5</td>\n",
       "    </tr>\n",
       "    <tr>\n",
       "      <th>4357</th>\n",
       "      <td>aashish\\nHonest review\\nReviewed in India on 1...</td>\n",
       "      <td>₹1,049.00</td>\n",
       "      <td>YOZTI</td>\n",
       "      <td>4.2 out of 5</td>\n",
       "    </tr>\n",
       "    <tr>\n",
       "      <th>4358</th>\n",
       "      <td>muzammil en\\nMy lens get damaged 😓\\nReviewed i...</td>\n",
       "      <td>₹522.00</td>\n",
       "      <td>GIZGA essentials</td>\n",
       "      <td>4 out of 5</td>\n",
       "    </tr>\n",
       "  </tbody>\n",
       "</table>\n",
       "<p>14573 rows × 4 columns</p>\n",
       "</div>"
      ],
      "text/plain": [
       "                                                reviews      Price  \\\n",
       "0     [boss, of, all, bluetooth, speakerboommmmmm, b...    ₹19,999   \n",
       "1     [amazing, speaker, with, superb, bass, it, com...     ₹6,499   \n",
       "2     [excellent, product, in, budget, i, m, loving,...     ₹1,999   \n",
       "3     [sound, quality, is, good, and, loud, but, you...     ₹2,799   \n",
       "4     [the, best, product, in, low, price, osm, the,...     ₹2,499   \n",
       "...                                                 ...        ...   \n",
       "4354  esha\\nRough, Tasteless and Can't compare it to...          -   \n",
       "4355  Anurag Vyawahare\\nGreat deal\\nReviewed in Indi...    ₹599.00   \n",
       "4356  Md Serajul Arfin\\nOk\\nReviewed in India on 30 ...  ₹1,899.00   \n",
       "4357  aashish\\nHonest review\\nReviewed in India on 1...  ₹1,049.00   \n",
       "4358  muzammil en\\nMy lens get damaged 😓\\nReviewed i...    ₹522.00   \n",
       "\n",
       "                 Brand       Ratings  \n",
       "0         Home Theatre             5  \n",
       "1                  Yes             5  \n",
       "2         Home Theatre             5  \n",
       "3         Home Theatre             5  \n",
       "4                   No             5  \n",
       "...                ...           ...  \n",
       "4354        1200 Grams  4.3 out of 5  \n",
       "4355                 -  4.1 out of 5  \n",
       "4356                 -  3.4 out of 5  \n",
       "4357             YOZTI  4.2 out of 5  \n",
       "4358  GIZGA essentials    4 out of 5  \n",
       "\n",
       "[14573 rows x 4 columns]"
      ]
     },
     "execution_count": 47,
     "metadata": {},
     "output_type": "execute_result"
    }
   ],
   "source": [
    "df"
   ]
  },
  {
   "cell_type": "code",
   "execution_count": 47,
   "id": "030d25d9",
   "metadata": {},
   "outputs": [],
   "source": [
    "df1.to_csv(r'C:\\Users\\dell\\Documents\\ratingcsv\\final.csv',index=False,header=True)"
   ]
  }
 ],
 "metadata": {
  "kernelspec": {
   "display_name": "Python 3",
   "language": "python",
   "name": "python3"
  },
  "language_info": {
   "codemirror_mode": {
    "name": "ipython",
    "version": 3
   },
   "file_extension": ".py",
   "mimetype": "text/x-python",
   "name": "python",
   "nbconvert_exporter": "python",
   "pygments_lexer": "ipython3",
   "version": "3.8.8"
  }
 },
 "nbformat": 4,
 "nbformat_minor": 5
}
